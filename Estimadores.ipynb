{
  "nbformat": 4,
  "nbformat_minor": 0,
  "metadata": {
    "colab": {
      "provenance": [],
      "include_colab_link": true
    },
    "kernelspec": {
      "name": "python3",
      "display_name": "Python 3"
    },
    "language_info": {
      "name": "python"
    }
  },
  "cells": [
    {
      "cell_type": "markdown",
      "metadata": {
        "id": "view-in-github",
        "colab_type": "text"
      },
      "source": [
        "<a href=\"https://colab.research.google.com/github/Clio88/Estad-stica-y-Probabilidad/blob/main/Estimadores.ipynb\" target=\"_parent\"><img src=\"https://colab.research.google.com/assets/colab-badge.svg\" alt=\"Open In Colab\"/></a>"
      ]
    },
    {
      "cell_type": "markdown",
      "source": [
        "#Estimadores.\n",
        "##Equipo 1:\n",
        "\n",
        "Integrantes del equipo:\n",
        "\n",
        "* Bustillos Araiza Carlos\n",
        "* Cruz Arce Alexa Clio\n",
        "* Espinosa Ponce Beatriz Deite\n",
        "* Gonzalez Muñoz Luciano Gustavo\n",
        "* Sarmiento Ibarra Jonatan\n"
      ],
      "metadata": {
        "id": "7dOQqUis_hqn"
      }
    },
    {
      "cell_type": "markdown",
      "source": [
        "##Ejercicio 1:"
      ],
      "metadata": {
        "id": "9FqosKFi_eXg"
      }
    },
    {
      "cell_type": "markdown",
      "source": [
        "El tiempo de retardo para pacientes con enfermedad coronaria potencial se define como la duración entre el comienzo de un síntoma agudo cardiovascular y la llegada a la unidad de emergencia.\n",
        "\n",
        "Se supone que el tiempo de retardo sigue una distribución exponencial con parámetro $\\theta $.\n",
        "\n",
        "Se registraron los tiempos de retardo (en minutos) en la clínica para los primeros 20 pacientes:\n",
        "\n",
        "$$ 525, \\ 719, \\ 2880, \\ 150, \\ 30, \\ 251, \\ 45, \\ 858, \\ 15, \\ 47, \\ 90, \\ 56, \\ 68, \\ 6, \\ 189, \\ 180, \\ 60, \\ 60, \\ 294, \\ 747 $$\n",
        "\n",
        "- Encuentra un estimador por el método de momentos para la media de la distribución.\n",
        "- Encuentra el valor del estimador con los datos dados."
      ],
      "metadata": {
        "id": "C_oXAAXm_YsJ"
      }
    },
    {
      "cell_type": "markdown",
      "source": [
        "###Solución:"
      ],
      "metadata": {
        "id": "Lq9FvvUldu6M"
      }
    },
    {
      "cell_type": "markdown",
      "source": [
        "Para una variable aleatoria $X$ que sigue una distribución exponencial $X \\sim \\exp{(\\theta)}$, su *media problacional* es:\n",
        "\n",
        "$$\\mathbb{E}[X] = \\theta$$\n",
        "$\\hspace{1cm}$\n",
        "\n",
        "Lo que significa que el calor esperado de los tiempos de retardo es igual a $\\theta$\n",
        "\n",
        "Para el método de momentos, tenemos que igualar los momentos teóricos con los momentos muestrales:\n",
        "1. El *primer momento teórico* (esperanza matemática) es $\\mathbb{E}[X] = \\theta$:\n",
        "    \n",
        "2. La *media muestral* es una estimación de $\\mathbb{E}[X] $, calculada como:\n",
        "$$ \\bar X = \\frac{1}{n} \\sum_{i=1}^{n} X_i $$\n",
        "\n",
        "Donde:\n",
        "- $n$  es el número de datos (en este caso, 20 pacientes).\n",
        "\n",
        "- $X_i$  son los valores de los tiempos de retardo.\n",
        "\n",
        "$\\hspace{1cm}$\n",
        "\n",
        "El **estimador por método de momentos** se obtiene al igualar la media muestral con la media teórica:\n",
        "$$\\hat\\theta = {\\bar X}$$\n",
        "Es decir, usamos la media de los datos como una estimación del parámetro $\\theta$.\n",
        "\n",
        "Ahora, calculemos este estimador con los datos proporcionados:\n",
        "\n",
        "$\\hspace{1cm}$\n",
        "$$\\begin{align*}\n",
        "\\bar X &= \\frac{525 + 719 + 2880 + 150 + 30 + 251 + 45 + 858 + 15 + 47 + 90 + 56 + 68 + 6 + 189 + 180 + 60 + 60 + 294 + 747}{20} \\\\\n",
        "&\\hspace{1cm}\\\\\n",
        "&= \\frac{7270}{20} = 363.5\n",
        "\\end{align*}$$"
      ],
      "metadata": {
        "id": "XihZ0Ir2nvhn"
      }
    },
    {
      "cell_type": "code",
      "source": [
        "# Datos de tiempos de retardo en minutos\n",
        "datos = [525, 719, 2880, 150, 30, 251, 45, 858, 15, 47,\n",
        "         90, 56, 68, 6, 189, 180, 60, 60, 294, 747]\n",
        "\n",
        "# Calcular la media muestral\n",
        "media_muestral = sum(datos) / len(datos)\n",
        "media_muestral"
      ],
      "metadata": {
        "colab": {
          "base_uri": "https://localhost:8080/"
        },
        "id": "bEslg9a9gUQl",
        "outputId": "8757a977-ca3e-4629-ef24-3a0302d4c1b6"
      },
      "execution_count": null,
      "outputs": [
        {
          "output_type": "execute_result",
          "data": {
            "text/plain": [
              "363.5"
            ]
          },
          "metadata": {},
          "execution_count": 1
        }
      ]
    },
    {
      "cell_type": "markdown",
      "source": [
        "##Ejercicio 2:"
      ],
      "metadata": {
        "id": "20VYkb6H_9pX"
      }
    },
    {
      "cell_type": "markdown",
      "source": [
        "Sea una muestra aleatoria $X_1, \\ldots, X_n \\overset{iid}{\\sim} \\mathcal{N}(\\mu, \\sigma^2) $.\n",
        "Queremos encontrar el estimador de máxima verosimilitud para $\\mu$ y $\\sigma^2$.\n",
        "\n",
        "La función de densidad es:\n",
        "$$ f(x; \\mu, \\sigma^2) = \\frac{1}{\\sqrt{2\\pi \\sigma^2}} \\exp\\left(-\\frac{(x - \\mu)^2}{2\\sigma^2}\\right) \\cdot \\mathbf{1}_{(-\\infty, \\infty)}(x)$$"
      ],
      "metadata": {
        "id": "yAm2FphjABVH"
      }
    },
    {
      "cell_type": "markdown",
      "source": [
        "###Solución:"
      ],
      "metadata": {
        "id": "h6_uesRVdsIl"
      }
    },
    {
      "cell_type": "markdown",
      "source": [
        "**<font color=\"red\">[Obtener los EMV para $𝜇$ y $σ^2$]</font>**\n",
        "\n",
        "Por definición la función de verosimilitud es:\n",
        "\n",
        "$$\\begin{align*}L(𝜇,σ^2)&=∏_{i=1}^{n}f(x_i;𝜇,σ^2)\\\\\n",
        "&\\hspace{1cm}\\\\\n",
        "&=∏_{i=1}^{n}\\left(\\frac{1}{\\sqrt{2πσ^2}}exp\\left(\\frac{-(x_i-𝜇)^2}{2σ^2}\\right)\\right)\\\\\n",
        "\\end{align*}$$\n",
        "\n",
        "Aplicamos el logaritmo de ambos lados:\n",
        "\n",
        "$$\\begin{align*}log(L(𝜇,σ^2))&=log\\left(∏_{i=1}^{n}\\frac{1}{\\sqrt{2πσ^2}}\\cdot exp\\left(\\frac{-(x_i-𝜇)^2}{2σ^2}\\right)\\right)\\\\\n",
        "&\\hspace{1cm}\\\\\n",
        "&=\\sum_{i=1}^{n}\\left[log\\left(\\frac{1}{\\sqrt{2πσ^2}}\\right)-\\left(\\frac{(x_i-𝜇)^2}{2σ^2}\\right)\\right]\\\\\n",
        "&\\hspace{1cm}\\\\\n",
        "&=\\sum_{i=1}^{n}\\left[log(2πσ^2)^{-\\frac{1}{2}}-\\frac{(x_i-𝜇)^2}{2σ^2}\\right]\\\\\n",
        "&\\hspace{1cm}\\\\\n",
        "&=\\sum_{i=1}^{n}\\left[-\\frac{1}{2}log(2πσ^2)-\\frac{(x_i-𝜇)^2}{2σ^2}\\right]\\\\\n",
        "&\\hspace{1cm}\\\\\n",
        "&=\\sum_{i=1}^{n}-\\frac{1}{2}log(2πσ^2)-\\sum_{i=1}^{n}\\frac{(x_i-𝜇)^2}{2σ^2}\\\\\n",
        "&\\hspace{1cm}\\\\\n",
        "&=-\\frac{n}{2}log(2πσ^2)-\\frac{1}{2σ^2}⋅\\sum_{i=1}^{n}(x_i-𝜇)^2\n",
        "\\end{align*}$$\n",
        "\n",
        "Derivaremos con respecto a $𝜇$:\n",
        "\n",
        "$$\\begin{align*}\\frac{∂}{∂𝜇}log(L(𝜇,σ^2))&=\\frac{∂}{∂𝜇}\\left(-\\frac{n}{2}log(2πσ^2)\\right)-\\frac{∂}{∂𝜇}\\frac{1}{2σ^2}\\sum_{i=1}^{n}(x_i-𝜇)^2\\\\\n",
        "&\\hspace{1cm}\\\\\n",
        "&=-\\frac{∂}{∂𝜇}\\left(\\frac{1}{2σ^2}\\right)\\sum_{i=1}^{n}(x_i-𝜇)^2\\\\\n",
        "&\\hspace{1cm}\\\\\n",
        "&=-\\frac{1}{2σ^2}\\sum_{i=1}^{n}2(x_i-𝜇)(-1)\\\\\n",
        "&\\hspace{1cm}\\\\\n",
        "&=\\frac{1}{σ^2}\\sum_{i=1}^{n}(x_i-𝜇)\n",
        "\\end{align*}$$\n",
        "\n",
        "Igualamos a $0$ y despejamos $𝜇$:\n",
        "\n",
        "$$\\begin{align*}\\frac{1}{σ^2}\\sum_{i=1}^{n}(x_i-𝜇)&=0\\\\\n",
        "&\\hspace{1cm}\\\\\n",
        "\\sum_{i=1}^{n}(x_i-𝜇)&=σ^2(0)\\\\\n",
        "&\\hspace{1cm}\\\\\n",
        "\\sum_{i=1}^{n}x_i&=\\sum_{i=1}^{n}𝜇\\\\\n",
        "&\\hspace{1cm}\\\\\n",
        "n𝜇&=\\sum_{i=1}^{n}x_i\\\\\n",
        "&\\hspace{1cm}\\\\\n",
        "𝜇&=\\frac{1}{n}\\sum_{i=1}^{n}x_i=\\bar{X}\n",
        "\\end{align*}$$\n",
        "\n",
        "Ahora para encontrar el de $σ^2$, derivamos respecto a $σ^2$ al logaritmo de la función de verosimilitud:\n",
        "\n",
        "$$\\begin{align*}\\frac{∂}{∂σ^2}log(L(𝜇,σ^2))&=\\frac{∂}{∂σ^2}\\left[-\\frac{n}{2}log(2πσ^2)-\\frac{1}{2σ^2}\\sum_{i=1}^{n}(x_i-𝜇)^2\\right]\\\\\n",
        "&\\hspace{1cm}\\\\\n",
        "&=-\\frac{n}{2}\\frac{∂}{∂σ^2}log(2πσ^2)-\\frac{∂}{∂σ^2}\\left(\\frac{1}{2σ^2}\\sum_{i=1}^{n}(x_i-𝜇)^2\\right)\\\\\n",
        "&\\hspace{1cm}\\\\\n",
        "&=-\\frac{n}{2}⋅\\frac{2π}{2πσ^2}-\\frac{∂}{∂σ^2}\\frac{1}{2σ^2}\\sum_{i=1}^{n}(x_1-𝜇)^2\\\\\n",
        "&\\hspace{1cm}\\\\\n",
        "&=-\\frac{n}{2σ^2}+\\frac{1}{σ^4}\\sum_{i=1}^{n}(x_i-𝜇)^2\n",
        "\\end{align*}$$\n",
        "\n",
        "Igualamos a $0$ y despejamos $σ^2$:\n",
        "\n",
        "$$\\begin{align*} -\\frac{n}{2σ^2}+\\frac{1}{σ^4}\\sum_{i=1}^{n}(x_i-𝜇)^2&=0\\\\\n",
        "&\\hspace{1cm}\\\\\n",
        "2σ^4\\left(\\frac{-n}{2σ^2}+\\frac{1}{σ^4}\\sum_{i=1}^{n}(x_i-𝜇)^2\\right)&=2σ^4(0)\\\\\n",
        "&\\hspace{1cm}\\\\\n",
        "-σ^2n+2\\sum_{i=1}^{n}(x_i-𝜇)^2&=0\\\\\n",
        "&\\hspace{1cm}\\\\\n",
        "nσ^2&=2\\sum_{i=1}^{n}(x_i-𝜇)^2\\\\\n",
        "&\\hspace{1cm}\\\\\n",
        "σ^2&=\\frac{2}{n}\\sum_{i=1}^{n}(x_i-𝜇)^2\n",
        "\\end{align*}$$\n",
        "\n",
        "Por lo tanto los EMV de $𝜇$ y $σ^2$ son:\n",
        "\n",
        "$$\\begin{align*}\n",
        "\\hat{𝜇}&=\\bar{X}\\\\\n",
        "&\\hspace{1cm}\\\\\n",
        "\\hat{σ^2}&=\\frac{2}{n}\\sum_{i=1}^{n}(x_i-𝜇)^2\n",
        "\\end{align*}$$"
      ],
      "metadata": {
        "id": "Tw-JLaDPjEvY"
      }
    },
    {
      "cell_type": "markdown",
      "source": [
        "##Ejercicio 3:"
      ],
      "metadata": {
        "id": "n4Ok1vv_AF7P"
      }
    },
    {
      "cell_type": "markdown",
      "source": [
        "**<font color=\"red\">[Realizar en Python]</font>**\n",
        "\n",
        "Suponga que la vida util de los focos de cierta marca, se modela mediante una distribución expoencial de parametro $\\theta$ (desconocido). Probamos 5 focos y encontramos que tienen una vida útil de $2,3,1,3$ y $5$ años, respectivamente. ¿Cuál es el MLE para $\\theta$?"
      ],
      "metadata": {
        "id": "sie6qXpqAIDB"
      }
    },
    {
      "cell_type": "markdown",
      "source": [
        "###Solución:"
      ],
      "metadata": {
        "id": "BBrtmKZ8dtil"
      }
    },
    {
      "cell_type": "code",
      "source": [
        "import numpy as np\n",
        "from scipy.stats import expon\n",
        "import matplotlib.pyplot as plt\n",
        "\n",
        "# Datos de vida útil de los focos (en años)\n",
        "datos = np.array([2, 3, 1, 3, 5])\n",
        "\n",
        "# Cálculo del estimador MLE para θ en una distribución exponencial\n",
        "# Para Exp(θ), el MLE de θ es 1/media_muestral\n",
        "theta_mle = 1 / np.mean(datos)\n",
        "\n",
        "print(f\"Estimación MLE del parámetro θ: {theta_mle:.4f}\")\n",
        "\n",
        "# Visualización de los datos y la distribución ajustada\n",
        "plt.figure(figsize=(10, 6))\n",
        "\n",
        "# Histograma de los datos\n",
        "plt.hist(datos, bins=5, density=True, alpha=0.6, color='g', label='Datos observados')\n",
        "\n",
        "# PDF de la distribución exponencial con θ estimado\n",
        "x = np.linspace(0, 6, 1000)\n",
        "pdf_est = expon.pdf(x, scale=1/theta_mle)  # scale = 1/θ\n",
        "plt.plot(x, pdf_est, 'r-', lw=2, label=f'Exp(θ={theta_mle:.2f})')\n",
        "\n",
        "plt.title('Ajuste de Distribución Exponencial a Datos de Vida Útil de Focos')\n",
        "plt.xlabel('Vida útil (años)')\n",
        "plt.ylabel('Densidad de probabilidad')\n",
        "plt.legend()\n",
        "plt.grid(True)\n",
        "plt.show()\n",
        "\n",
        "# Información adicional\n",
        "print(f\"\\nMedia muestral: {np.mean(datos):.2f} años\")\n",
        "print(f\"Tasa de fallo estimada (θ): {theta_mle:.4f} (fallos por año)\")\n",
        "print(f\"Tiempo medio estimado entre fallos: {1/theta_mle:.2f} años\")"
      ],
      "metadata": {
        "colab": {
          "base_uri": "https://localhost:8080/",
          "height": 659
        },
        "id": "HkT_BP6CQPt-",
        "outputId": "775d18fd-f5f2-41e7-f095-e41176413075"
      },
      "execution_count": null,
      "outputs": [
        {
          "output_type": "stream",
          "name": "stdout",
          "text": [
            "Estimación MLE del parámetro θ: 0.3571\n"
          ]
        },
        {
          "output_type": "display_data",
          "data": {
            "text/plain": [
              "<Figure size 1000x600 with 1 Axes>"
            ],
            "image/png": "[encoded data removed]"
          },
          "metadata": {}
        },
        {
          "output_type": "stream",
          "name": "stdout",
          "text": [
            "\n",
            "Media muestral: 2.80 años\n",
            "Tasa de fallo estimada (θ): 0.3571 (fallos por año)\n",
            "Tiempo medio estimado entre fallos: 2.80 años\n"
          ]
        }
      ]
    },
    {
      "cell_type": "markdown",
      "source": [
        "##Ejercicio 4:"
      ],
      "metadata": {
        "id": "2AViw4-bBq23"
      }
    },
    {
      "cell_type": "markdown",
      "source": [
        "Sea $(X_1,...,X_n)$ una m.a. con función de densidad:\n",
        "$$f(x;θ)=θ(1+x)^{-(1+θ)}  \\mathbb{I}_{(0,-∞)}(x)$$\n",
        "\n",
        "Con $θ>1$. Se debe de encontrar el estimador de $θ$ y calcular el los momentos asumiendo que $θ>1$.\n"
      ],
      "metadata": {
        "id": "w2ySuKRKBs3P"
      }
    },
    {
      "cell_type": "markdown",
      "source": [
        "###Solución:"
      ],
      "metadata": {
        "id": "iXrWB8DoFEgv"
      }
    },
    {
      "cell_type": "markdown",
      "source": [
        "**<font color=\"red\">[Estimador de $θ$]</font>**\n",
        "\n",
        "Sabemos que el primer momento de la función de densidad, $𝜇_1$ es:\n",
        "\n",
        "$$𝜇_1=\\mathbb{E}[X]=∫_{0}^{∞}x⋅f(x)dx=∫_{0}^{∞}x⋅θ(1+x)^{-(1+θ)}dx$$\n",
        "\n",
        "$$𝜇_1=θ∫_{0}^{∞}x(1+x)^{-(1+θ)}dx$$\n",
        "\n",
        "\n",
        "Para resolver la integral se hace un cambio de variable. Entonces, sea $u=1+x ⇒ du=dx$ y $x=u-1$\n",
        "\n",
        "Y de igual manera los límites de la integral cambian, ya que si $x=0 ⇒ u=1$\n",
        "\n",
        "$⟹$\n",
        "$$\\begin{align*}&𝜇_1=θ∫_{0}^{∞}x(1+x)^{-(1+θ)}dx\\\\\n",
        "\\hspace{1cm}\\\\\n",
        "&𝜇_1=θ∫_{1}^{∞}(u-1)u^{-(1+θ)}du\\\\\n",
        "\\hspace{1cm}\\\\\n",
        "&𝜇_1=θ \\left( ∫_{1}^{∞}u^{-θ}du+∫_{1}^{∞}u^{-(1+θ)}du \\right)\\\\\n",
        "\\hspace{1cm}\\\\\n",
        "&𝜇_1=θ\\left(\\frac{1}{θ-1} - \\frac{1}{θ}\\right)\\\\\n",
        "\\hspace{1cm}\\\\\n",
        "&𝜇_1=θ\\left(\\frac{θ-(θ-1)}{θ(θ-1)}\\right)\\end{align*}$$\n",
        "\n",
        "$⟹$\n",
        "$$𝜇_1=\\frac{1}{θ-1}$$ con $θ>1$\n",
        "\n",
        "Ahora procedemos a obtener el estimador, sabiendo que $𝜇_1=m_1$, con:\n",
        "\n",
        "$$m_1=\\bar{X}=\\frac{1}{n}∑_{i=1}^{n}X_i$$\n",
        "\n",
        "$⟹$\n",
        "\n",
        "$$\\frac{1}{θ-1}=\\bar{X}$$\n",
        "\n",
        "Despejamos a $θ$ y obtenemos:\n",
        "\n",
        "$$\\hat{θ}=1+\\frac{1}{\\bar{X}}$$\n",
        "\n",
        "\n",
        "**<font color=\"red\">[Función Generadora de Momentos (FGM)]</font>**\n",
        "\n",
        "Recoredemos que la función generadora de momentos se define como:\n",
        "\n",
        "$$M_x(t)=\\mathbb{E}[e^{tX}]$$\n",
        "\n",
        "Por definición se tiene:\n",
        "\n",
        "$$M_x(t)=∫_{0}^{∞}e^{tx}θ(1+x)^{-(1+θ)}dx$$\n",
        "\n",
        "Realizamos un cambio de variable $u=x+1 ⇒ du=dx$. Y de igual manera, cuando $x=0 ⇒ u=1$.\n",
        "\n",
        "$$M_x(t)=θe^{-t}∫_{1}^{∞}e^{tu}u^{-(1+θ)}du$$\n",
        "\n",
        "Y se calcula el primer momento como:\n",
        "\n",
        "$$\\begin{align*}&M'_x(t)=\\frac{\\partial M_x(t)}{\\partial t}\\\\\n",
        "\\hspace{1cm}\\\\\n",
        "&M'_x(t)=\\frac{\\partial}{\\partial t}\\left(θe^{-t}∫_{1}^{∞}u^{-1+θ}du\\right)\\\\\n",
        "\\hspace{1cm}\\\\\n",
        "&M'_x(t)=θe^{-t}\\left(-∫_{1}^{∞}e^{tu}u^{-(1+θ)}du + ∫_{1}^{∞}e^{tu}u^{-θ}du\\right)\\end{align*}$$\n",
        "\n",
        "Sabemos que:\n",
        "\n",
        "$$M_x(t)=∫_{0}^{∞}e^{tx}θ(1+x)^{-(1+θ)}dx$$\n",
        "\n",
        "$⟹$\n",
        "\n",
        "$$M'_x(t)=-M_x(t)+θe^{-t}∫_{1}^{∞}e^{tu}u^{-θ}du$$\n",
        "\n",
        "Evaluamos con $t=0$ para obtener $E[X]$. Sabemos que cuando $t=0 ⇒ M_x(t)=1$, por propiedad de la FGM y $M'_x(t)=E[X]$.\n",
        "\n",
        "Entonces, obtenemos:\n",
        "\n",
        "$$\\begin{align*}&\\mathbb{E}[X]=-1+θ∫_{1}^{∞}u^{θ}\\\\\n",
        "\\hspace{1cm}\\\\\n",
        "&\\mathbb{E}[X]=\\frac{1}{θ-1}\\end{align*}$$\n",
        "\n",
        "\n",
        "Ahora calculamos el segundo momento. Por definición tenemos:\n",
        "\n",
        "$$M''_x(t)=\\mathbb{E}[X^2]=∫_{0}^{∞}x^2⋅θ(1+x)^{-(1+θ)}dx$$\n",
        "\n",
        "$\\hspace{1cm}$\n",
        "\n",
        "Hacemos un cambio de variable con: $u=1+x ⇒ du=dx$ y $x=u-1$. Los límites cambian y obtenemos:\n",
        "\n",
        "$\\hspace{1cm}$\n",
        "\n",
        "$$\\begin{align*}&M''_x(t)=θ∫_{1}^{∞}(u-2)^2 u^{-(1+θ)}du\\\\\n",
        "\\hspace{1cm}\\\\\n",
        "&M''_x(t)=θ∫_{1}^{∞}\\left(u^2⋅u^{-(1+θ)}-2u⋅u^{-(1+θ)}+u^{-(1+θ)}\\right)du\\\\\n",
        "\\hspace{1cm}\\\\\n",
        "&M''_x(t)=θ∫_{1}^{∞}\\left(u^{1-θ}-2u^{-θ}+u^{-(1+θ)}\\right)du\\end{align*}$$\n",
        "\n",
        "Resolvemos cada integral por aparte, recordando que podemos \"separar\" la integral.\n",
        "\n",
        "$⟹$\n",
        "\n",
        "$$\\begin{align*}&∫_{1}^{∞}u^{(1-θ)}du=\\frac{1}{θ-2}, \\hspace{0.2cm} \\text{con} \\hspace{0.2cm} θ>2\\\\\n",
        "\\hspace{1cm}\\\\\n",
        "&∫_{1}^{∞}u^{-θ}du=\\frac{1}{θ-1}, \\hspace{0.2cm} \\text{con} \\hspace{0.2cm} θ>1\\\\\n",
        "\\hspace{1cm}\\\\\n",
        "&∫_{1}^{∞}u^{-(1+θ)}du=\\frac{1}{θ}\\end{align*}$$\n",
        "\n",
        "Sustituimos las integrales y obtenemos el segundo momento:\n",
        "\n",
        "$$M''_x(t)=θ\\left(\\frac{1}{θ-2}-\\frac{1}{θ-1}+\\frac{1}{θ}\\right), \\hspace{0.2cm} \\text{con} \\hspace{0.2cm} θ>2$$"
      ],
      "metadata": {
        "id": "zWVVuFYyFHG_"
      }
    }
  ]
}