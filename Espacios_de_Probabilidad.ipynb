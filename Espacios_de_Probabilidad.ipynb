{
  "nbformat": 4,
  "nbformat_minor": 0,
  "metadata": {
    "colab": {
      "provenance": [],
      "authorship_tag": "ABX9TyPLDWxoPen07qHtIyR6dwSR",
      "include_colab_link": true
    },
    "kernelspec": {
      "name": "python3",
      "display_name": "Python 3"
    },
    "language_info": {
      "name": "python"
    }
  },
  "cells": [
    {
      "cell_type": "markdown",
      "metadata": {
        "id": "view-in-github",
        "colab_type": "text"
      },
      "source": [
        "<a href=\"https://colab.research.google.com/github/Clio88/Estad-stica-y-Probabilidad/blob/main/Espacios_de_Probabilidad.ipynb\" target=\"_parent\"><img src=\"https://colab.research.google.com/assets/colab-badge.svg\" alt=\"Open In Colab\"/></a>"
      ]
    },
    {
      "cell_type": "markdown",
      "source": [
        "*Creado por: Cruz Arce Alexa Clio*"
      ],
      "metadata": {
        "id": "FfFDeU3TU4NH"
      }
    },
    {
      "cell_type": "markdown",
      "source": [
        "#Introducción"
      ],
      "metadata": {
        "id": "p_T3wDmxU0ew"
      }
    },
    {
      "cell_type": "markdown",
      "source": [
        "En 1933, el matemático ruso A.N. Kolmogorov, propuso una serie de axionas que resultaron adecuados para la construcción de la teoría de la probabilidad.\n",
        "\n",
        "Desde entonces se ha desarrollado y extendido la teoría de la probabilidad, la cual es útil para moldear matemáticamente fenómenos donde la incertidumbre es un elemento escencial del modelo.\n",
        "\n",
        "De esta manera, un experimento aleatorio se puede definir como la repetición de un evento bajo las misma condiciones, pero que los resultados pueden variar y no son predecibles. Por ejemplo: *el lanzamiento de una moneda*.\n",
        "\n",
        "Sin embargo, el estudio principal de la probabilidad busca los experimentos bajo las cuales los posibles resultados se puedan adjuntar.  Y allí llega la primera definición.\n",
        "\n",
        "\n",
        "> <h3> <font color= \"3672ec\";>\"Un espacio muestral de un experimento aleatorio, denotado como $Ω$, es el conjunto de todos los posibles resultados del experimento.\" </h3>\n",
        "\n",
        "Un ejemplo es el lanzamiento de un dado dos veces. Donde el espacio muestral se puede ver como:\n",
        "\n",
        "$$\n",
        "\\begin{pmatrix}\n",
        "  (1,1) & (1,2) & (1,3) & (1,4) & (1,5) & (1,6) \\\\\n",
        "  \\vdots & \\vdots & \\vdots & \\vdots & \\vdots & \\vdots \\\\\n",
        "  (6,1) & (6,2) & \\cdot & ⋅&\\cdot &(6,6)\n",
        "\\end{pmatrix}\n",
        "$$\n",
        "\n",
        "Si definimos al evento $A$ como el evento en el cual la suma de las caras sea 4, el conjunto $A$ se puede ver como:\n",
        "\n",
        "$$A=\\{(1,3),(3,1),(2,2)\\}$$\n",
        "\n",
        "El producto cartesiano de conjuntos como los eventos $A$ y $B$ se definen como la colección de todas las parejas ordenadas $(a,b)$, como en el ejemplo anterior, en donde $a ∈ A$ y $b ∈ B$.\n",
        "\n",
        "$$A × B=\\{(x,y)\\hspace{3mm} |\\hspace{3mm} x∈A,y∈B\\}$$\n",
        "\n",
        "Con el producto cartesiano se puede calcular la cardinalidad, es decir el número de elementos de cada conjunto. En el ejemplo de los dados se tiene:\n",
        "\n",
        "$$\\text{#} A \\times B= \\text{#}A \\times \\text{#}B=6^2=36$$\n",
        "\n"
      ],
      "metadata": {
        "id": "lyv6FUjmU_sH"
      }
    },
    {
      "cell_type": "markdown",
      "source": [
        "#Probabilidad clásica [Laplaciana]"
      ],
      "metadata": {
        "id": "z-WkgY5JZPU-"
      }
    },
    {
      "cell_type": "markdown",
      "source": [
        "La probabilidad de un evento $A$ es un número real en el intervalo $[0,1]$, que representa una medida de la frecuencia con la que se observa la ocurrencia del evento dentro de un experimento aleatorio.\n",
        "\n",
        "> <h3> <font color= \"3672ec\";>Sea $A$ un subconjunto de un espacio muestral $Ω$ de cardinalidad finita. Entonces la probabilidad clásica del evento $A$ como: $$\\mathbb{P}(A)=\\frac{\\text{#}A}{\\text{#}Ω}$$ </h3>\n",
        "\n",
        "Siendo $A$ el número de casos favorables para el evento. Y dicha probabilidad se puede aplicar cuando:\n",
        "\n",
        "- El espacio muestral es finito\n",
        "\n",
        "- Todos los elementos del espacio muestral tienen el mismo \"peso\". [Equiprobabilidad]"
      ],
      "metadata": {
        "id": "uzjm7d--Zdd1"
      }
    },
    {
      "cell_type": "markdown",
      "source": [
        "###<font color= \"f24421\"> Ejercicio:</font>\n",
        "Sea el experimento de lanzar una moneda 3 veces, de manera independiente (es decir, el $i$-ésimo lanzamiento no me afecta al $i+1$ lanzamiento). El espacio muetral de este experimento es:\n",
        "\n",
        "$$ \\Omega = \\{A,S\\} \\times \\{A,S\\} \\times \\{A,S\\} = \\{A,S\\}^3 $$\n",
        "y tenemos que $\\#\\Omega = 2^3$.\n",
        "\n",
        "Sean los eventos:\n",
        "* $A$: todos los resultados son águila\n",
        "* $S$: todos los resultados son soles\n",
        "* $E$: por lo menos un resultado es sol\n"
      ],
      "metadata": {
        "id": "p4lWxeZvjnyi"
      }
    },
    {
      "cell_type": "code",
      "source": [
        "#Primero crearemos el espacio muestral de nuestro experimento\n",
        "import itertools\n",
        "from itertools import product\n",
        "\n",
        "Omega = set(product({'A','S'}, repeat=3))\n",
        "cardinalidad = len(Omega)\n",
        "print(f\"\\u03A9 = {Omega}\")\n",
        "print(f\"La cardinalidad de \\u03A9 es: {cardinalidad}\")"
      ],
      "metadata": {
        "colab": {
          "base_uri": "https://localhost:8080/"
        },
        "id": "X0u233_OkGsz",
        "outputId": "100c21e5-908b-4c38-b78a-11882ab2e252"
      },
      "execution_count": 14,
      "outputs": [
        {
          "output_type": "stream",
          "name": "stdout",
          "text": [
            "Ω = {('A', 'S', 'A'), ('A', 'A', 'A'), ('S', 'S', 'A'), ('S', 'A', 'A'), ('A', 'S', 'S'), ('A', 'A', 'S'), ('S', 'S', 'S'), ('S', 'A', 'S')}\n",
            "La cardinalidad de Ω es: 8\n"
          ]
        }
      ]
    },
    {
      "cell_type": "code",
      "source": [
        "from collections import Counter\n",
        "\n",
        "#Definimos el evento A, donde todos los resultados sean águila\n",
        "resultado_especifico = ('A', 'A', 'A')\n",
        "\n",
        "#Se cuentan de nuestro Omega\n",
        "conteo = Counter(Omega)\n",
        "num_veces = conteo[resultado_especifico]\n",
        "print(f\"El resultado {resultado_especifico} aparece {num_veces} veces en Omega.\")\n",
        "\n",
        "#Y ahora calculamos la probabilidad de el Evento\n",
        "\n",
        "def P(A):\n",
        "    P = A/len(Omega)\n",
        "    return P\n",
        "\n",
        "print(f\"La probabilidad de que todos los resultados sean águila es: {P(num_veces)}\")"
      ],
      "metadata": {
        "colab": {
          "base_uri": "https://localhost:8080/"
        },
        "id": "PQGuNUvKkKo7",
        "outputId": "e7e0af98-8243-46b7-9568-bff277931477"
      },
      "execution_count": 15,
      "outputs": [
        {
          "output_type": "stream",
          "name": "stdout",
          "text": [
            "El resultado ('A', 'A', 'A') aparece 1 veces en Omega.\n",
            "La probabilidad de que todos los resultados sean águila es: 0.125\n"
          ]
        }
      ]
    },
    {
      "cell_type": "code",
      "source": [
        "#Definimos el evento S, donde todos los resultados sean soles\n",
        "resultado_especifico = ('S', 'S', 'S')\n",
        "\n",
        "#Se cuentan de nuestro Omega\n",
        "conteo = Counter(Omega)\n",
        "num_veces = conteo[resultado_especifico]\n",
        "print(f\"El resultado {resultado_especifico} aparece {num_veces} veces en Omega.\")\n",
        "\n",
        "#Y ahora calculamos la probabilidad de el Evento\n",
        "\n",
        "def P(A):\n",
        "    P = A/len(Omega)\n",
        "    return P\n",
        "\n",
        "print(f\"La probabilidad de que todos los resultados sean soles es: {P(num_veces)}\")"
      ],
      "metadata": {
        "colab": {
          "base_uri": "https://localhost:8080/"
        },
        "id": "p-Fg3SFxkLmq",
        "outputId": "9d9cd5d9-8511-42c2-8f7c-85d1f6d5b231"
      },
      "execution_count": 16,
      "outputs": [
        {
          "output_type": "stream",
          "name": "stdout",
          "text": [
            "El resultado ('S', 'S', 'S') aparece 1 veces en Omega.\n",
            "La probabilidad de que todos los resultados sean soles es: 0.125\n"
          ]
        }
      ]
    },
    {
      "cell_type": "code",
      "source": [
        "#Definimos el evento E, donde al menos en uno de los tres volados salió sol.\n",
        "eventoE={outcome for outcome in Omega if 'S' in outcome}\n",
        "cardinalidadE=len(eventoE)\n",
        "\n",
        "print(f\"La probabilidad de que al menos haya un sol entre los tres volados es: {P(cardinalidadE)}\")\n"
      ],
      "metadata": {
        "colab": {
          "base_uri": "https://localhost:8080/"
        },
        "id": "nuoE2N0PkOuC",
        "outputId": "202370c1-8844-468d-f698-42732bf95fc6"
      },
      "execution_count": 17,
      "outputs": [
        {
          "output_type": "stream",
          "name": "stdout",
          "text": [
            "La probabilidad de que al menos haya un sol entre los tres volados es: 0.875\n"
          ]
        }
      ]
    },
    {
      "cell_type": "markdown",
      "source": [
        "#Probabilidad condicional"
      ],
      "metadata": {
        "id": "_KXk6REMkTjI"
      }
    },
    {
      "cell_type": "markdown",
      "source": [
        "La probabilidad condicional de un evento $A$ se define como la probabilidad de un evento $A$ ocurra sabiendo que ocurre un evento $B$.\n",
        "\n",
        "> <h3> <font color= \"3672ec\";>$$\\mathbb{P}(A|B)=\\frac{\\mathbb{P}(A∩B)}{\\mathbb{P}(B)}=\\frac{\\text{#}A∩B}{\\text{#}B}$$ </h3>\n",
        "\n",
        "Donde $\\mathbb{P}(B)>0$.\n",
        "\n"
      ],
      "metadata": {
        "id": "fncq6GXUkZjg"
      }
    },
    {
      "cell_type": "code",
      "source": [
        "#Se define la probabilidad condicional de los eventos E y F.\n",
        "def prob_cond(E,F):\n",
        "    return len(E & F) / len(F)\n",
        "\n",
        "#Siguiendo con el ejemplo de los lanzamientos de la moneda se tiene lo siguiente:\n",
        "# El primer lanzamiento es águila\n",
        "B = { om for om in Omega if om[0]==\"A\"} # el primer lanzamiento es águila\n",
        "print(f\"Los eventos donde el primer lanzamiento es águila son: {B}\")"
      ],
      "metadata": {
        "colab": {
          "base_uri": "https://localhost:8080/"
        },
        "id": "tDreIVj4lWMA",
        "outputId": "73979f76-fb75-4075-fd91-fcfdfc3460bb"
      },
      "execution_count": 19,
      "outputs": [
        {
          "output_type": "stream",
          "name": "stdout",
          "text": [
            "Los eventos donde el primer lanzamiento es águila son: {('A', 'A', 'S'), ('A', 'S', 'A'), ('A', 'A', 'A'), ('A', 'S', 'S')}\n"
          ]
        }
      ]
    },
    {
      "cell_type": "code",
      "source": [
        "C = { om for om in Omega if om.count(\"A\")==2}\n",
        "print(f\"Los eventos donde dos de los lanzamientos son aguilás son: {C}\")"
      ],
      "metadata": {
        "colab": {
          "base_uri": "https://localhost:8080/"
        },
        "id": "aOCTv9Oimoq4",
        "outputId": "ee09d5c1-4cb4-4ce6-9ccc-a62ea1e45e06"
      },
      "execution_count": 20,
      "outputs": [
        {
          "output_type": "stream",
          "name": "stdout",
          "text": [
            "Los eventos donde dos de los lanzamientos son aguilás son: {('A', 'A', 'S'), ('A', 'S', 'A'), ('S', 'A', 'A')}\n"
          ]
        }
      ]
    },
    {
      "cell_type": "code",
      "source": [
        "#Se define la probabilidad\n",
        "def prob(E):\n",
        "    return len(E) / len(Omega)\n",
        "\n",
        "prob_b=prob(B)\n",
        "prob_c=prob(C)\n",
        "prob_condicional=prob_cond(B,C)\n",
        "\n",
        "print(f\"La probabilidad del evento B es: {prob_b}\")\n",
        "print(f\"La probabilidad del evento C es: {prob_c}\")\n",
        "print(f\"La probabilidad condicional del evento B sobre C es: {prob_condicional}\")"
      ],
      "metadata": {
        "colab": {
          "base_uri": "https://localhost:8080/"
        },
        "id": "z6w3Lybzm0qI",
        "outputId": "42b43592-8f66-42d0-ae5f-5a3765853a93"
      },
      "execution_count": 22,
      "outputs": [
        {
          "output_type": "stream",
          "name": "stdout",
          "text": [
            "La probabilidad del evento B es: 0.5\n",
            "La probabilidad del evento C es: 0.375\n",
            "La probabilidad condicional del evento B sobre C es: 0.6666666666666666\n"
          ]
        }
      ]
    },
    {
      "cell_type": "markdown",
      "source": [
        "#Independencia de eventos"
      ],
      "metadata": {
        "id": "xUzgTI_cnZzQ"
      }
    },
    {
      "cell_type": "markdown",
      "source": [
        "La independencia de dos eventos, $A$ y $B$ son independientes si cumplen:\n",
        "$$\\mathbb{P}(A∩B)=\\mathbb{P}(A)\\mathbb{P}(B)$$\n",
        "Y de manera equivalente:\n",
        "$$\\mathbb{P}(A|B)=\\mathbb{P}(A)$$"
      ],
      "metadata": {
        "id": "7EnczplfndGQ"
      }
    },
    {
      "cell_type": "code",
      "source": [
        "#Continuando con el ejemplo de los 3 volados veremos la independencia de eventos\n",
        "#Se define la independencia de eventos:\n",
        "def indep(E,F):\n",
        "    return prob(E & F) == prob(E)*prob(F)\n",
        "\n",
        "if indep(B,C)==False:\n",
        "  print(\"Los eventos B y C no son independientes.\")\n",
        "else:\n",
        "  print(\"Los eventos B y C son independientes.\")"
      ],
      "metadata": {
        "colab": {
          "base_uri": "https://localhost:8080/"
        },
        "id": "GkPi_cf-o1OI",
        "outputId": "554c7d5d-8b07-4d01-8eee-ab090bb6a9b6"
      },
      "execution_count": 28,
      "outputs": [
        {
          "output_type": "stream",
          "name": "stdout",
          "text": [
            "Los eventos B y C no son independientes.\n"
          ]
        }
      ]
    },
    {
      "cell_type": "code",
      "source": [
        "#Se define el evento D como los eventos donde el segundo lanzamiento es sol.\n",
        "D = { om for om in Omega if om[1]==\"S\"}\n",
        "print(f\"Los eventos donde el segundo lanzamiento es sol son: {D}\")"
      ],
      "metadata": {
        "colab": {
          "base_uri": "https://localhost:8080/"
        },
        "id": "-pwWrP2OpV2I",
        "outputId": "9cf23c27-02f0-4b8f-e09c-57e9998892c6"
      },
      "execution_count": 24,
      "outputs": [
        {
          "output_type": "stream",
          "name": "stdout",
          "text": [
            "Los eventos donde el segundo lanzamiento es sol son: {('A', 'S', 'A'), ('S', 'S', 'S'), ('S', 'S', 'A'), ('A', 'S', 'S')}\n"
          ]
        }
      ]
    },
    {
      "cell_type": "code",
      "source": [
        "#Calculamos su probabilidad:\n",
        "prob_d=prob(D)\n",
        "print(f\"La probabilidad de que el segundo lanzamiento sea sol es: {prob_d}\")\n",
        "\n",
        "#Se calcula la probabilidad de que el segundo lanzamiento sea sol dado que el primer lanzamiento sea aguila:\n",
        "prob_condicional2=prob_cond(B,D)\n",
        "print(f\"La probabilidad de que el segundo lanzamiento sea sol dado a que el primero fue aguila es: {prob_condicional2}\")\n",
        "\n",
        "#Se calcula la independencia de los eventos B y D:\n",
        "if indep(B,D)==False:\n",
        "  print(\"Los eventos B y D no son independientes.\")\n",
        "else:\n",
        "  print(\"Los eventos B y D son independientes.\")"
      ],
      "metadata": {
        "colab": {
          "base_uri": "https://localhost:8080/"
        },
        "id": "uIf5E1eWpjzk",
        "outputId": "f709b96e-4112-47b2-8e38-3ae784f478f3"
      },
      "execution_count": 29,
      "outputs": [
        {
          "output_type": "stream",
          "name": "stdout",
          "text": [
            "La probabilidad de que el segundo lanzamiento sea sol es: 0.5\n",
            "La probabilidad de que el segundo lanzamiento sea sol dado a que el primero fue aguila es: 0.5\n",
            "Los eventos B y D son independientes.\n"
          ]
        }
      ]
    },
    {
      "cell_type": "code",
      "source": [
        "#Ahora se verifica la independencia entre C y D.\n",
        "if indep(C,D)==False:\n",
        "  print(\"Los eventos C y D no son independientes.\")\n",
        "else:\n",
        "  print(\"Los eventos C y D son independientes.\")"
      ],
      "metadata": {
        "colab": {
          "base_uri": "https://localhost:8080/"
        },
        "id": "2Om3-gD7p-Yw",
        "outputId": "4396110b-3e0e-4a90-b994-2142fe996805"
      },
      "execution_count": 30,
      "outputs": [
        {
          "output_type": "stream",
          "name": "stdout",
          "text": [
            "Los eventos C y D no son independientes.\n"
          ]
        }
      ]
    },
    {
      "cell_type": "markdown",
      "source": [
        "###<font color= \"8f2bed\"> Ejemplo:</font>\n",
        "Sea el experimento aleatorio de lanzar un dado dos veces. Sabemos que el espacio muestral es el siguiente:\n",
        "$$ \\Omega = \\{ (i,j) | i,j \\in \\{1,2,3,4,5,6 \\} \\} = \\{1,2,3,4,5,6 \\} \\times \\{1,2,3,4,5,6 \\} = \\{1,2,3,4,5,6 \\}^2$$\n",
        "y además $\\#\\Omega = 6^2 = 36$"
      ],
      "metadata": {
        "id": "jpyeFQblr7_g"
      }
    },
    {
      "cell_type": "code",
      "source": [
        "Omega_dado =  set( product([1,2,3,4,5,6],repeat=2 ))\n",
        "print(f\"El espacio muestral del experimento es: {Omega_dado}\")"
      ],
      "metadata": {
        "colab": {
          "base_uri": "https://localhost:8080/"
        },
        "id": "aNQmmun-sAyQ",
        "outputId": "97fe3207-8bb4-4859-8fdf-6bcaaa7cea0d"
      },
      "execution_count": 31,
      "outputs": [
        {
          "output_type": "stream",
          "name": "stdout",
          "text": [
            "El espacio muestral del experimento es: {(3, 4), (4, 3), (3, 1), (5, 4), (4, 6), (5, 1), (2, 2), (1, 6), (2, 5), (1, 3), (6, 2), (6, 5), (4, 2), (4, 5), (3, 3), (5, 6), (3, 6), (5, 3), (2, 4), (1, 2), (2, 1), (1, 5), (6, 1), (6, 4), (3, 2), (4, 1), (3, 5), (5, 2), (4, 4), (5, 5), (1, 1), (1, 4), (2, 3), (2, 6), (6, 6), (6, 3)}\n"
          ]
        }
      ]
    },
    {
      "cell_type": "code",
      "source": [
        "cardOm = len(Omega_dado)\n",
        "print(f\"La cardinalidad del espacio muestral es: {cardOm}\")"
      ],
      "metadata": {
        "colab": {
          "base_uri": "https://localhost:8080/"
        },
        "id": "R42fxmZUsTSo",
        "outputId": "7f469cab-df67-445c-eac7-6fb2b010ac5b"
      },
      "execution_count": 32,
      "outputs": [
        {
          "output_type": "stream",
          "name": "stdout",
          "text": [
            "La cardinalidad del espacio muestral es: 36\n"
          ]
        }
      ]
    },
    {
      "cell_type": "markdown",
      "source": [
        "Se define el evento $S_n$ como la suma de los dados en $n$ y se ve como:\n",
        "$$S_n=\\{(i,j)∈Ω\\hspace{0.2cm}|\\hspace{0.2cm}i+j=n\\}$$"
      ],
      "metadata": {
        "id": "jQkozWjFst4h"
      }
    },
    {
      "cell_type": "code",
      "source": [
        "def S(n):\n",
        "    Sn = { (i,j) for i in range(1,7) for j in range(1,7) if i+j == n }\n",
        "    return Sn\n",
        "\n",
        "S_nueve = S(9)\n",
        "print(f\"Los eventos donde la suma de sus lados es 9 son: {S_nueve}\")"
      ],
      "metadata": {
        "colab": {
          "base_uri": "https://localhost:8080/"
        },
        "id": "2I3pchfrshbA",
        "outputId": "262cee6c-8573-4c7e-fac3-948dc4a18563"
      },
      "execution_count": 35,
      "outputs": [
        {
          "output_type": "stream",
          "name": "stdout",
          "text": [
            "Los eventos donde la suma de sus lados es 9 son: {(6, 3), (4, 5), (5, 4), (3, 6)}\n"
          ]
        }
      ]
    },
    {
      "cell_type": "code",
      "source": [
        "#Y vemos la probabilidad clásica de S9:\n",
        "probabilidad_nueve=len(S_nueve)/cardOm\n",
        "print(f\"La probabilidad de que la suma de las caras de los dados sea 9 es: {probabilidad_nueve}\")"
      ],
      "metadata": {
        "colab": {
          "base_uri": "https://localhost:8080/"
        },
        "id": "lO0WI3WVtHXA",
        "outputId": "42ff3fbc-9789-4a1c-bddc-aa420e4e3dcc"
      },
      "execution_count": 36,
      "outputs": [
        {
          "output_type": "stream",
          "name": "stdout",
          "text": [
            "La probabilidad de que la suma de las caras de los dados sea 9 es: 0.1111111111111111\n"
          ]
        }
      ]
    },
    {
      "cell_type": "markdown",
      "source": [
        "#Probabilidad geométrica"
      ],
      "metadata": {
        "id": "LJN92jk4jVc7"
      }
    },
    {
      "cell_type": "markdown",
      "source": [
        "La probabilidad geométrica se deriva de la probabilidad clásica, siendo que esta no se determina por la cardinalidad del evento, sino mediante el área o volumen de un evento.\n",
        "\n",
        "> <h3> <font color= \"3672ec\";>Si un experimento aleatorio tiene como espacio muestral $Ω \\subset \\mathbb{R}^2$ cuya área está bien definida y es finita, entonces se define la probabilidad geométrica de un evento $A \\subseteq Ω$ como: $$\\mathbb{P}(A)=\\frac{\\text{Área de } A}{\\text{Área de }Ω}$$</h3>"
      ],
      "metadata": {
        "id": "i2tjMV2-jblS"
      }
    },
    {
      "cell_type": "markdown",
      "source": [
        "###<font color= \"8f2bed\"> Ejemplo:</font>\n",
        "Dos amigos decidenencontrarse en cierto lugar pero olvidan la hora exacta de la cita, únicamente recuerdan que la hora era entre las 12:00 y las 13:00 horas. Cada uno de ellos decide llegar al azar en ese lapso y esperar sólamente 10 minutos. ¿Cuál es la probabilidad de que los amigos se encuentren?"
      ],
      "metadata": {
        "id": "DlpmwAlzpI2J"
      }
    },
    {
      "cell_type": "markdown",
      "source": [
        "Notemos que el espacio muestral $Ω$ consta de las parejas $(x,y)$. Se puede ver que dichas parejas viven entre las 12:00 y las 13:00 horas. Pero nos interesa el evento donde los amigos se encuentran. de esta manera:\n",
        "\n",
        "$$\\begin{align*}|x-y|&\\leq 10\\\\\n",
        "\\hspace{1cm}\\\\\n",
        "x&\\leq10+y\n",
        "\\end{align*}$$\n",
        "\n",
        "Como $x=60$, $⇒$\n",
        "\n",
        "$$\\begin{align*}\\mathbb{P}(A)&=\\frac{(60)^2-(50)^2}{(60)^2}\\\\\n",
        "\\hspace{1cm}\\\\\n",
        "&=\\frac{36-25}{36}\\\\\n",
        "\\hspace{1cm}\\\\\n",
        "&=\\frac{11}{36}\\end{align*}$$\n",
        "\n"
      ],
      "metadata": {
        "id": "voZwK7u7pfPJ"
      }
    },
    {
      "cell_type": "code",
      "source": [
        "import matplotlib.pyplot as plt\n",
        "import numpy as np\n",
        "\n",
        "# Generamos valores de x\n",
        "x = np.linspace(-10, 10, 100)\n",
        "y = x  # Función identidad\n",
        "\n",
        "# Creamos los límites del área: 10 arriba y 10 abajo de la identidad\n",
        "y_upper = y + 10\n",
        "y_lower = y - 10\n",
        "\n",
        "# Graficamos la función identidad\n",
        "plt.plot(x, y, label='f(x) = x', color='purple')\n",
        "\n",
        "# Rellenamos el área entre la línea superior e inferior\n",
        "plt.fill_between(x, y_lower, y_upper, color='violet', alpha=0.3, label='Área ±10')\n",
        "\n",
        "# Decoración extra pro\n",
        "plt.xlabel('Eje X')\n",
        "plt.ylabel('Eje Y')\n",
        "plt.title('Función Identidad con Área ±10')\n",
        "plt.axhline(0, color='black', linewidth=0.5)\n",
        "plt.axvline(0, color='black', linewidth=0.5)\n",
        "plt.xticks([])\n",
        "plt.yticks([])\n",
        "plt.grid(True)\n",
        "plt.legend()\n",
        "plt.show()\n"
      ],
      "metadata": {
        "colab": {
          "base_uri": "https://localhost:8080/",
          "height": 448
        },
        "id": "Bdkrl42KAYJF",
        "outputId": "a79695a9-5fe4-4cc7-b5b0-d281a974f956"
      },
      "execution_count": null,
      "outputs": [
        {
          "output_type": "display_data",
          "data": {
            "text/plain": [
              "<Figure size 640x480 with 1 Axes>"
            ],
            "image/png": "[encoded data removed]"
          },
          "metadata": {}
        }
      ]
    },
    {
      "cell_type": "markdown",
      "source": [
        "#Probabilidad frecuentista"
      ],
      "metadata": {
        "id": "B3rMUEucdJum"
      }
    },
    {
      "cell_type": "markdown",
      "source": [
        "Para los experimentos donde se realizan repeticiones del mismo experimento y se registran un número de veces que ocurre un determinado evento A, pueden utilizar dicha probabilidad.\n",
        "\n",
        "> <h3> <font color= \"3672ec\";>Sea $n_A$ el número de ocurrencias de un evento $A$ en $n$ realizaciones de un experimento aleatorio. La probabilidad frecuentista del evento $A$ se define como el límite:\n",
        "$\\hspace{1cm}$\n",
        "$$\\mathbb{P}(A)=lim_{n→∞}\\frac{n_A}{n}$$</h3>\n",
        "\n",
        "Pero notemos que no es posible realizar infinitas repeticiones de un experimento aleatorio, por lo tanto se utiliza la aproximación empírica del valor de $\\mathbb{P}(A)$, como:\n",
        "\n",
        "\n",
        "$$\\mathbb{P}(A)≈\\frac{n_A}{n}$$"
      ],
      "metadata": {
        "id": "s7OB5MLDdPwW"
      }
    },
    {
      "cell_type": "markdown",
      "source": [
        "###<font color= \"8f2bed\"> Ejemplo:</font>\n",
        "Como ejemplo se puede ver el lanzamiento de una monera cargada."
      ],
      "metadata": {
        "id": "DtPI-_fOfotA"
      }
    },
    {
      "cell_type": "code",
      "source": [
        "import random\n",
        "def volado(p):\n",
        "    return 'sol' if random.random() < p else 'aguila'\n",
        "\n",
        "print(f\"El resultado de un volado con p=0.4 es: {volado(0.4)}\")"
      ],
      "metadata": {
        "colab": {
          "base_uri": "https://localhost:8080/"
        },
        "id": "wjubD880fteP",
        "outputId": "9f2a094b-4d49-41c6-a3cf-1bd9bdee7b89"
      },
      "execution_count": 5,
      "outputs": [
        {
          "output_type": "stream",
          "name": "stdout",
          "text": [
            "El resultado de un volado con p=0.4 es: aguila\n"
          ]
        }
      ]
    },
    {
      "cell_type": "code",
      "source": [
        "#Se crea una lista donde se guardan 10 volados aleatorios\n",
        "a = [volado(0.4) for i in range(10)]\n",
        "print(f\"Los resultados de repetir un volado 10 veces son: {a}\")"
      ],
      "metadata": {
        "colab": {
          "base_uri": "https://localhost:8080/"
        },
        "id": "9RpScqY5f1IH",
        "outputId": "ccac839f-50f0-4735-e819-18f090350f50"
      },
      "execution_count": 6,
      "outputs": [
        {
          "output_type": "stream",
          "name": "stdout",
          "text": [
            "Los resultados de repetir un volado 10 veces son: ['sol', 'aguila', 'aguila', 'aguila', 'sol', 'sol', 'sol', 'sol', 'aguila', 'aguila']\n"
          ]
        }
      ]
    },
    {
      "cell_type": "code",
      "source": [
        "#Se cuenta las veces en que aparece sol en la lista de los volados aleatorios\n",
        "a_s=a.count(\"sol\")\n",
        "print(f\"El número de veces en que sol aparece en los resultados anteriores es: {a_s}\")"
      ],
      "metadata": {
        "colab": {
          "base_uri": "https://localhost:8080/"
        },
        "id": "D016D72xf3an",
        "outputId": "574d740b-3ecb-4a4c-e6de-4692c991c660"
      },
      "execution_count": 8,
      "outputs": [
        {
          "output_type": "stream",
          "name": "stdout",
          "text": [
            "El número de veces en que sol aparece en los resultados anteriores es: 5\n"
          ]
        }
      ]
    },
    {
      "cell_type": "code",
      "source": [
        "#Otra forma de generar los 10 resultados:\n",
        "resultados = [] # lista vacia\n",
        "for i in range(10):\n",
        "    resultado = volado(0.4)\n",
        "    resultados.append(resultado)\n",
        "print(f\"El resultado de los volados son: {resultados}\")"
      ],
      "metadata": {
        "colab": {
          "base_uri": "https://localhost:8080/"
        },
        "id": "n1imwBGUf5RX",
        "outputId": "949989be-b6cf-4b25-f49a-94f5415e440b"
      },
      "execution_count": 11,
      "outputs": [
        {
          "output_type": "stream",
          "name": "stdout",
          "text": [
            "El resultado de los volados son: ['aguila', 'aguila', 'sol', 'aguila', 'aguila', 'aguila', 'aguila', 'aguila', 'aguila', 'sol']\n"
          ]
        }
      ]
    },
    {
      "cell_type": "code",
      "source": [
        "#Vamos a simular nuestra probabilidad frecuentista\n",
        "p = [] #Lista para almacernar las probabilidades\n",
        "\n",
        "for i in range(1000): #Simula 1000 experimentos\n",
        "    N = 1000 # numero de lanzamientos\n",
        "    resultados = []\n",
        "\n",
        "    for i in range(N):\n",
        "        resultado = volado(0.63)\n",
        "        resultados.append(resultado)\n",
        "\n",
        "    n_soles = resultados.count(\"sol\") # cuenta en número de soles\n",
        "    p_soles = n_soles / N #calcula la proporción\n",
        "\n",
        "    p.append(p_soles)\n",
        "\n",
        "#Probabilidad promedio\n",
        "p_soles_prom = sum(p) / 1000\n",
        "\n",
        "print(\"Probabiliad {:.3f}\".format(p_soles_prom))"
      ],
      "metadata": {
        "colab": {
          "base_uri": "https://localhost:8080/"
        },
        "id": "dvY01PXahDun",
        "outputId": "63796065-7a23-449d-e141-852582dda8db"
      },
      "execution_count": 12,
      "outputs": [
        {
          "output_type": "stream",
          "name": "stdout",
          "text": [
            "Probabiliad 0.630\n"
          ]
        }
      ]
    },
    {
      "cell_type": "markdown",
      "source": [
        "#Ley de un experimento"
      ],
      "metadata": {
        "id": "_OD7dxf0tz5A"
      }
    },
    {
      "cell_type": "markdown",
      "source": [
        "###<font color= \"8f2bed\"> Ejemplo:</font>\n",
        "El espacio muestral $\\Omega$ del experimento aleatorio de lanzar dos dados honestos, esta compuesto por todas las pearejas ordenadas $(i,j)$ tales que $1 \\leq i,j \\leq 6$\n",
        "\n",
        "$$\\Omega = \\{ (i,j) \\mid 1 \\leq i,j \\leq 6 \\} $$\n",
        "y sabemos que $\\#\\Omega = 6^2 = 36$"
      ],
      "metadata": {
        "id": "Jjcc4mLq2jkB"
      }
    },
    {
      "cell_type": "code",
      "source": [
        "#usamos itertools\n",
        "from itertools import product\n",
        "Omega = set(product([1,2,3,4,5,6], repeat = 2))\n",
        "print(f\"El espacio muestral es: {Omega}\")\n",
        "card_Omega = len(Omega)\n",
        "print(f\"La cardinalidad de Omega es: {card_Omega}\")"
      ],
      "metadata": {
        "colab": {
          "base_uri": "https://localhost:8080/"
        },
        "id": "dLy7ziDH2oNq",
        "outputId": "589d0f65-b159-4219-f9ef-42f9322e96cb"
      },
      "execution_count": 46,
      "outputs": [
        {
          "output_type": "stream",
          "name": "stdout",
          "text": [
            "El espacio muestral es: {(3, 4), (4, 3), (3, 1), (5, 4), (4, 6), (5, 1), (2, 2), (1, 6), (2, 5), (1, 3), (6, 2), (6, 5), (4, 2), (4, 5), (3, 3), (5, 6), (3, 6), (5, 3), (2, 4), (1, 2), (2, 1), (1, 5), (6, 1), (6, 4), (3, 2), (4, 1), (3, 5), (5, 2), (4, 4), (5, 5), (1, 1), (1, 4), (2, 3), (2, 6), (6, 6), (6, 3)}\n",
            "La cardinalidad de Omega es: 36\n"
          ]
        }
      ]
    },
    {
      "cell_type": "markdown",
      "source": [
        "Sea $S_n$ el evento \"La suma de los dados en $n$\". Esto es:\n",
        "$$S_n=\\{(i,j)\\in\\Omega:i+j=n\\}.$$"
      ],
      "metadata": {
        "id": "SohB1otW3O1i"
      }
    },
    {
      "cell_type": "code",
      "source": [
        "#Se define el evento\n",
        "def S(n):\n",
        "    Sn = {(i,j) for i in range(1,7) for j in range(1,7) if i+j==n}\n",
        "    return Sn\n",
        "\n",
        "print(f\"Los pares que suman 9 son: {S(9)}\")\n",
        "print(f\"Los pares que suman 12 son: {S(12)}\")"
      ],
      "metadata": {
        "colab": {
          "base_uri": "https://localhost:8080/"
        },
        "id": "gKxBVYTW3RWx",
        "outputId": "7e8104d4-e55c-41d8-d3d6-533a8e2b587e"
      },
      "execution_count": 48,
      "outputs": [
        {
          "output_type": "stream",
          "name": "stdout",
          "text": [
            "Los pares que suman 9 son: {(6, 3), (4, 5), (5, 4), (3, 6)}\n",
            "Los pares que suman 12 son: {(6, 6)}\n"
          ]
        }
      ]
    },
    {
      "cell_type": "code",
      "source": [
        "from fractions import Fraction\n",
        "# Importamos la librerias\n",
        "import pandas as pd\n",
        "import numpy as np\n",
        "\n",
        "# Definir la funcion P(A)\n",
        "# Es la probabilidad del evento A definida mediante la definición clásica\n",
        "\n",
        "def P(A):\n",
        "    P = Fraction(len(A), len(Omega))\n",
        "    return P\n",
        "\n",
        "# Vamos a definir un diccionario S\n",
        "# (i,j) pares ordenados y los valores de su suma\n",
        "\n",
        "S = {(i,j) : i+j for i,j in Omega}\n",
        "\n",
        "# Agrupación de combinaciones por suma\n",
        "\n",
        "from collections import defaultdict\n",
        "\n",
        "dS = defaultdict(set)\n",
        "\n",
        "# Vamos a recorrer sobre los elementos en S\n",
        "\n",
        "for i,j in S.items():\n",
        "\n",
        "    dS[j].add(i)\n",
        "\n",
        "list(dS.items())"
      ],
      "metadata": {
        "colab": {
          "base_uri": "https://localhost:8080/"
        },
        "id": "5cRtt2WS3fgp",
        "outputId": "3b4516e7-88ed-487a-9cb4-e884862acfc3"
      },
      "execution_count": 55,
      "outputs": [
        {
          "output_type": "execute_result",
          "data": {
            "text/plain": [
              "[(7, {(1, 6), (2, 5), (3, 4), (4, 3), (5, 2), (6, 1)}),\n",
              " (4, {(1, 3), (2, 2), (3, 1)}),\n",
              " (9, {(3, 6), (4, 5), (5, 4), (6, 3)}),\n",
              " (10, {(4, 6), (5, 5), (6, 4)}),\n",
              " (6, {(1, 5), (2, 4), (3, 3), (4, 2), (5, 1)}),\n",
              " (8, {(2, 6), (3, 5), (4, 4), (5, 3), (6, 2)}),\n",
              " (11, {(5, 6), (6, 5)}),\n",
              " (3, {(1, 2), (2, 1)}),\n",
              " (5, {(1, 4), (2, 3), (3, 2), (4, 1)}),\n",
              " (2, {(1, 1)}),\n",
              " (12, {(6, 6)})]"
            ]
          },
          "metadata": {},
          "execution_count": 55
        }
      ]
    },
    {
      "cell_type": "code",
      "source": [
        "# LeyS almacenar la probabilidad de casa posible suma,\n",
        "# Usando la función P(A)\n",
        "# En otras palabras \"la función de densidad\"\n",
        "# A es el conjunto de pares que producden la suma i\n",
        "\n",
        "leyS = {i : P(A) for i, A in dS.items() }\n",
        "leyS"
      ],
      "metadata": {
        "colab": {
          "base_uri": "https://localhost:8080/"
        },
        "id": "ljVk_3cw3ogz",
        "outputId": "bc88f0bd-db10-41e6-c8eb-efec8d1f70e6"
      },
      "execution_count": 56,
      "outputs": [
        {
          "output_type": "execute_result",
          "data": {
            "text/plain": [
              "{7: Fraction(1, 6),\n",
              " 4: Fraction(1, 12),\n",
              " 9: Fraction(1, 9),\n",
              " 10: Fraction(1, 12),\n",
              " 6: Fraction(5, 36),\n",
              " 8: Fraction(5, 36),\n",
              " 11: Fraction(1, 18),\n",
              " 3: Fraction(1, 18),\n",
              " 5: Fraction(1, 9),\n",
              " 2: Fraction(1, 36),\n",
              " 12: Fraction(1, 36)}"
            ]
          },
          "metadata": {},
          "execution_count": 56
        }
      ]
    },
    {
      "cell_type": "markdown",
      "source": [
        "Recordemos que una variable aleatoria real $X$, es una función\n",
        "$$X : \\Omega \\to \\mathbb{R}$$\n",
        "\n",
        "Sabemos que la función de densidad de una v.a. discreta $X$, se define como sigue:\n",
        "$$ f_X(x) = \\begin{cases} \\mathbb{P}(X=x), \\quad \\text{si } x\\in R_{X} \\\\ 0, \\quad \\text{e.o.c} \\end{cases} $$\n",
        "donde $R_X$ es el rango de la v.a. $X$.\n",
        "\n",
        "Para nuestro evento $S_n$, se tiene la siguiente variable aleatoria\n",
        "$$ S : \\Omega \\to \\{2,3,4,5,6,7,8,9,10,11,12\\}$$"
      ],
      "metadata": {
        "id": "IVjAPtdq3t5Z"
      }
    },
    {
      "cell_type": "code",
      "source": [
        "# Vamos a crear una serie\n",
        "\n",
        "ley_S = pd.Series(leyS)\n",
        "ley_S.sort_index() #ordenar"
      ],
      "metadata": {
        "colab": {
          "base_uri": "https://localhost:8080/",
          "height": 429
        },
        "id": "aZ65AJU03tL5",
        "outputId": "df12868e-7f87-4eb6-fa99-9573e1fd89be"
      },
      "execution_count": 57,
      "outputs": [
        {
          "output_type": "execute_result",
          "data": {
            "text/plain": [
              "2     1/36\n",
              "3     1/18\n",
              "4     1/12\n",
              "5      1/9\n",
              "6     5/36\n",
              "7      1/6\n",
              "8     5/36\n",
              "9      1/9\n",
              "10    1/12\n",
              "11    1/18\n",
              "12    1/36\n",
              "dtype: object"
            ],
            "text/html": [
              "<div>\n",
              "<style scoped>\n",
              "    .dataframe tbody tr th:only-of-type {\n",
              "        vertical-align: middle;\n",
              "    }\n",
              "\n",
              "    .dataframe tbody tr th {\n",
              "        vertical-align: top;\n",
              "    }\n",
              "\n",
              "    .dataframe thead th {\n",
              "        text-align: right;\n",
              "    }\n",
              "</style>\n",
              "<table border=\"1\" class=\"dataframe\">\n",
              "  <thead>\n",
              "    <tr style=\"text-align: right;\">\n",
              "      <th></th>\n",
              "      <th>0</th>\n",
              "    </tr>\n",
              "  </thead>\n",
              "  <tbody>\n",
              "    <tr>\n",
              "      <th>2</th>\n",
              "      <td>1/36</td>\n",
              "    </tr>\n",
              "    <tr>\n",
              "      <th>3</th>\n",
              "      <td>1/18</td>\n",
              "    </tr>\n",
              "    <tr>\n",
              "      <th>4</th>\n",
              "      <td>1/12</td>\n",
              "    </tr>\n",
              "    <tr>\n",
              "      <th>5</th>\n",
              "      <td>1/9</td>\n",
              "    </tr>\n",
              "    <tr>\n",
              "      <th>6</th>\n",
              "      <td>5/36</td>\n",
              "    </tr>\n",
              "    <tr>\n",
              "      <th>7</th>\n",
              "      <td>1/6</td>\n",
              "    </tr>\n",
              "    <tr>\n",
              "      <th>8</th>\n",
              "      <td>5/36</td>\n",
              "    </tr>\n",
              "    <tr>\n",
              "      <th>9</th>\n",
              "      <td>1/9</td>\n",
              "    </tr>\n",
              "    <tr>\n",
              "      <th>10</th>\n",
              "      <td>1/12</td>\n",
              "    </tr>\n",
              "    <tr>\n",
              "      <th>11</th>\n",
              "      <td>1/18</td>\n",
              "    </tr>\n",
              "    <tr>\n",
              "      <th>12</th>\n",
              "      <td>1/36</td>\n",
              "    </tr>\n",
              "  </tbody>\n",
              "</table>\n",
              "</div><br><label><b>dtype:</b> object</label>"
            ]
          },
          "metadata": {},
          "execution_count": 57
        }
      ]
    },
    {
      "cell_type": "code",
      "source": [
        "# LeyS(i) devuelve la probabilidad de obtener la suma i, si está en el rango de posibles sumas\n",
        "\n",
        "def leyS(i):\n",
        "    if i in range(2,13):\n",
        "        x = ley_S[i]\n",
        "    else:\n",
        "        x = 0 # si no está en el rango me devuelve cero\n",
        "    return x\n",
        "\n",
        "# Vamos a crear el rango de S\n",
        "\n",
        "#creo una lista con los posibles valores\n",
        "rango_S = [k for k in range(2,13)]\n",
        "\n",
        "#Obtenemos la probabilidad de cada suma\n",
        "p_k = [float(leyS(k)) for k in rango_S]\n",
        "\n",
        "# Creamos un DataFrame con:\n",
        "# - los valores del rango_S\n",
        "# - las probabilidades p_k\n",
        "# Indexamos una etiqueta S_2,...,S_12\n",
        "\n",
        "# zip() -> toma dos listas y las combina en pares ordenados\n",
        "lS = pd.DataFrame(list(zip(rango_S, p_k)), index=[f\"S_{i}\" for i in range(2,13)], columns = ['rango','densidad'])\n",
        "lS"
      ],
      "metadata": {
        "colab": {
          "base_uri": "https://localhost:8080/",
          "height": 394
        },
        "id": "wohfE1dP36BT",
        "outputId": "7351860f-8f9b-4c76-a702-17ef5a685d47"
      },
      "execution_count": 59,
      "outputs": [
        {
          "output_type": "execute_result",
          "data": {
            "text/plain": [
              "      rango  densidad\n",
              "S_2       2  0.027778\n",
              "S_3       3  0.055556\n",
              "S_4       4  0.083333\n",
              "S_5       5  0.111111\n",
              "S_6       6  0.138889\n",
              "S_7       7  0.166667\n",
              "S_8       8  0.138889\n",
              "S_9       9  0.111111\n",
              "S_10     10  0.083333\n",
              "S_11     11  0.055556\n",
              "S_12     12  0.027778"
            ],
            "text/html": [
              "\n",
              "  <div id=\"df-48ccddc1-0b47-40c4-a489-d0ad563c066a\" class=\"colab-df-container\">\n",
              "    <div>\n",
              "<style scoped>\n",
              "    .dataframe tbody tr th:only-of-type {\n",
              "        vertical-align: middle;\n",
              "    }\n",
              "\n",
              "    .dataframe tbody tr th {\n",
              "        vertical-align: top;\n",
              "    }\n",
              "\n",
              "    .dataframe thead th {\n",
              "        text-align: right;\n",
              "    }\n",
              "</style>\n",
              "<table border=\"1\" class=\"dataframe\">\n",
              "  <thead>\n",
              "    <tr style=\"text-align: right;\">\n",
              "      <th></th>\n",
              "      <th>rango</th>\n",
              "      <th>densidad</th>\n",
              "    </tr>\n",
              "  </thead>\n",
              "  <tbody>\n",
              "    <tr>\n",
              "      <th>S_2</th>\n",
              "      <td>2</td>\n",
              "      <td>0.027778</td>\n",
              "    </tr>\n",
              "    <tr>\n",
              "      <th>S_3</th>\n",
              "      <td>3</td>\n",
              "      <td>0.055556</td>\n",
              "    </tr>\n",
              "    <tr>\n",
              "      <th>S_4</th>\n",
              "      <td>4</td>\n",
              "      <td>0.083333</td>\n",
              "    </tr>\n",
              "    <tr>\n",
              "      <th>S_5</th>\n",
              "      <td>5</td>\n",
              "      <td>0.111111</td>\n",
              "    </tr>\n",
              "    <tr>\n",
              "      <th>S_6</th>\n",
              "      <td>6</td>\n",
              "      <td>0.138889</td>\n",
              "    </tr>\n",
              "    <tr>\n",
              "      <th>S_7</th>\n",
              "      <td>7</td>\n",
              "      <td>0.166667</td>\n",
              "    </tr>\n",
              "    <tr>\n",
              "      <th>S_8</th>\n",
              "      <td>8</td>\n",
              "      <td>0.138889</td>\n",
              "    </tr>\n",
              "    <tr>\n",
              "      <th>S_9</th>\n",
              "      <td>9</td>\n",
              "      <td>0.111111</td>\n",
              "    </tr>\n",
              "    <tr>\n",
              "      <th>S_10</th>\n",
              "      <td>10</td>\n",
              "      <td>0.083333</td>\n",
              "    </tr>\n",
              "    <tr>\n",
              "      <th>S_11</th>\n",
              "      <td>11</td>\n",
              "      <td>0.055556</td>\n",
              "    </tr>\n",
              "    <tr>\n",
              "      <th>S_12</th>\n",
              "      <td>12</td>\n",
              "      <td>0.027778</td>\n",
              "    </tr>\n",
              "  </tbody>\n",
              "</table>\n",
              "</div>\n",
              "    <div class=\"colab-df-buttons\">\n",
              "\n",
              "  <div class=\"colab-df-container\">\n",
              "    <button class=\"colab-df-convert\" onclick=\"convertToInteractive('df-48ccddc1-0b47-40c4-a489-d0ad563c066a')\"\n",
              "            title=\"Convert this dataframe to an interactive table.\"\n",
              "            style=\"display:none;\">\n",
              "\n",
              "  <svg xmlns=\"http://www.w3.org/2000/svg\" height=\"24px\" viewBox=\"0 -960 960 960\">\n",
              "    <path d=\"M120-120v-720h720v720H120Zm60-500h600v-160H180v160Zm220 220h160v-160H400v160Zm0 220h160v-160H400v160ZM180-400h160v-160H180v160Zm440 0h160v-160H620v160ZM180-180h160v-160H180v160Zm440 0h160v-160H620v160Z\"/>\n",
              "  </svg>\n",
              "    </button>\n",
              "\n",
              "  <style>\n",
              "    .colab-df-container {\n",
              "      display:flex;\n",
              "      gap: 12px;\n",
              "    }\n",
              "\n",
              "    .colab-df-convert {\n",
              "      background-color: #E8F0FE;\n",
              "      border: none;\n",
              "      border-radius: 50%;\n",
              "      cursor: pointer;\n",
              "      display: none;\n",
              "      fill: #1967D2;\n",
              "      height: 32px;\n",
              "      padding: 0 0 0 0;\n",
              "      width: 32px;\n",
              "    }\n",
              "\n",
              "    .colab-df-convert:hover {\n",
              "      background-color: #E2EBFA;\n",
              "      box-shadow: 0px 1px 2px rgba(60, 64, 67, 0.3), 0px 1px 3px 1px rgba(60, 64, 67, 0.15);\n",
              "      fill: #174EA6;\n",
              "    }\n",
              "\n",
              "    .colab-df-buttons div {\n",
              "      margin-bottom: 4px;\n",
              "    }\n",
              "\n",
              "    [theme=dark] .colab-df-convert {\n",
              "      background-color: #3B4455;\n",
              "      fill: #D2E3FC;\n",
              "    }\n",
              "\n",
              "    [theme=dark] .colab-df-convert:hover {\n",
              "      background-color: #434B5C;\n",
              "      box-shadow: 0px 1px 3px 1px rgba(0, 0, 0, 0.15);\n",
              "      filter: drop-shadow(0px 1px 2px rgba(0, 0, 0, 0.3));\n",
              "      fill: #FFFFFF;\n",
              "    }\n",
              "  </style>\n",
              "\n",
              "    <script>\n",
              "      const buttonEl =\n",
              "        document.querySelector('#df-48ccddc1-0b47-40c4-a489-d0ad563c066a button.colab-df-convert');\n",
              "      buttonEl.style.display =\n",
              "        google.colab.kernel.accessAllowed ? 'block' : 'none';\n",
              "\n",
              "      async function convertToInteractive(key) {\n",
              "        const element = document.querySelector('#df-48ccddc1-0b47-40c4-a489-d0ad563c066a');\n",
              "        const dataTable =\n",
              "          await google.colab.kernel.invokeFunction('convertToInteractive',\n",
              "                                                    [key], {});\n",
              "        if (!dataTable) return;\n",
              "\n",
              "        const docLinkHtml = 'Like what you see? Visit the ' +\n",
              "          '<a target=\"_blank\" href=https://colab.research.google.com/notebooks/data_table.ipynb>data table notebook</a>'\n",
              "          + ' to learn more about interactive tables.';\n",
              "        element.innerHTML = '';\n",
              "        dataTable['output_type'] = 'display_data';\n",
              "        await google.colab.output.renderOutput(dataTable, element);\n",
              "        const docLink = document.createElement('div');\n",
              "        docLink.innerHTML = docLinkHtml;\n",
              "        element.appendChild(docLink);\n",
              "      }\n",
              "    </script>\n",
              "  </div>\n",
              "\n",
              "\n",
              "<div id=\"df-1e861e97-b9ac-4929-aef9-e5059f3ff0ff\">\n",
              "  <button class=\"colab-df-quickchart\" onclick=\"quickchart('df-1e861e97-b9ac-4929-aef9-e5059f3ff0ff')\"\n",
              "            title=\"Suggest charts\"\n",
              "            style=\"display:none;\">\n",
              "\n",
              "<svg xmlns=\"http://www.w3.org/2000/svg\" height=\"24px\"viewBox=\"0 0 24 24\"\n",
              "     width=\"24px\">\n",
              "    <g>\n",
              "        <path d=\"M19 3H5c-1.1 0-2 .9-2 2v14c0 1.1.9 2 2 2h14c1.1 0 2-.9 2-2V5c0-1.1-.9-2-2-2zM9 17H7v-7h2v7zm4 0h-2V7h2v10zm4 0h-2v-4h2v4z\"/>\n",
              "    </g>\n",
              "</svg>\n",
              "  </button>\n",
              "\n",
              "<style>\n",
              "  .colab-df-quickchart {\n",
              "      --bg-color: #E8F0FE;\n",
              "      --fill-color: #1967D2;\n",
              "      --hover-bg-color: #E2EBFA;\n",
              "      --hover-fill-color: #174EA6;\n",
              "      --disabled-fill-color: #AAA;\n",
              "      --disabled-bg-color: #DDD;\n",
              "  }\n",
              "\n",
              "  [theme=dark] .colab-df-quickchart {\n",
              "      --bg-color: #3B4455;\n",
              "      --fill-color: #D2E3FC;\n",
              "      --hover-bg-color: #434B5C;\n",
              "      --hover-fill-color: #FFFFFF;\n",
              "      --disabled-bg-color: #3B4455;\n",
              "      --disabled-fill-color: #666;\n",
              "  }\n",
              "\n",
              "  .colab-df-quickchart {\n",
              "    background-color: var(--bg-color);\n",
              "    border: none;\n",
              "    border-radius: 50%;\n",
              "    cursor: pointer;\n",
              "    display: none;\n",
              "    fill: var(--fill-color);\n",
              "    height: 32px;\n",
              "    padding: 0;\n",
              "    width: 32px;\n",
              "  }\n",
              "\n",
              "  .colab-df-quickchart:hover {\n",
              "    background-color: var(--hover-bg-color);\n",
              "    box-shadow: 0 1px 2px rgba(60, 64, 67, 0.3), 0 1px 3px 1px rgba(60, 64, 67, 0.15);\n",
              "    fill: var(--button-hover-fill-color);\n",
              "  }\n",
              "\n",
              "  .colab-df-quickchart-complete:disabled,\n",
              "  .colab-df-quickchart-complete:disabled:hover {\n",
              "    background-color: var(--disabled-bg-color);\n",
              "    fill: var(--disabled-fill-color);\n",
              "    box-shadow: none;\n",
              "  }\n",
              "\n",
              "  .colab-df-spinner {\n",
              "    border: 2px solid var(--fill-color);\n",
              "    border-color: transparent;\n",
              "    border-bottom-color: var(--fill-color);\n",
              "    animation:\n",
              "      spin 1s steps(1) infinite;\n",
              "  }\n",
              "\n",
              "  @keyframes spin {\n",
              "    0% {\n",
              "      border-color: transparent;\n",
              "      border-bottom-color: var(--fill-color);\n",
              "      border-left-color: var(--fill-color);\n",
              "    }\n",
              "    20% {\n",
              "      border-color: transparent;\n",
              "      border-left-color: var(--fill-color);\n",
              "      border-top-color: var(--fill-color);\n",
              "    }\n",
              "    30% {\n",
              "      border-color: transparent;\n",
              "      border-left-color: var(--fill-color);\n",
              "      border-top-color: var(--fill-color);\n",
              "      border-right-color: var(--fill-color);\n",
              "    }\n",
              "    40% {\n",
              "      border-color: transparent;\n",
              "      border-right-color: var(--fill-color);\n",
              "      border-top-color: var(--fill-color);\n",
              "    }\n",
              "    60% {\n",
              "      border-color: transparent;\n",
              "      border-right-color: var(--fill-color);\n",
              "    }\n",
              "    80% {\n",
              "      border-color: transparent;\n",
              "      border-right-color: var(--fill-color);\n",
              "      border-bottom-color: var(--fill-color);\n",
              "    }\n",
              "    90% {\n",
              "      border-color: transparent;\n",
              "      border-bottom-color: var(--fill-color);\n",
              "    }\n",
              "  }\n",
              "</style>\n",
              "\n",
              "  <script>\n",
              "    async function quickchart(key) {\n",
              "      const quickchartButtonEl =\n",
              "        document.querySelector('#' + key + ' button');\n",
              "      quickchartButtonEl.disabled = true;  // To prevent multiple clicks.\n",
              "      quickchartButtonEl.classList.add('colab-df-spinner');\n",
              "      try {\n",
              "        const charts = await google.colab.kernel.invokeFunction(\n",
              "            'suggestCharts', [key], {});\n",
              "      } catch (error) {\n",
              "        console.error('Error during call to suggestCharts:', error);\n",
              "      }\n",
              "      quickchartButtonEl.classList.remove('colab-df-spinner');\n",
              "      quickchartButtonEl.classList.add('colab-df-quickchart-complete');\n",
              "    }\n",
              "    (() => {\n",
              "      let quickchartButtonEl =\n",
              "        document.querySelector('#df-1e861e97-b9ac-4929-aef9-e5059f3ff0ff button');\n",
              "      quickchartButtonEl.style.display =\n",
              "        google.colab.kernel.accessAllowed ? 'block' : 'none';\n",
              "    })();\n",
              "  </script>\n",
              "</div>\n",
              "\n",
              "  <div id=\"id_6f195be0-bf11-4eda-a686-cc6d18b73062\">\n",
              "    <style>\n",
              "      .colab-df-generate {\n",
              "        background-color: #E8F0FE;\n",
              "        border: none;\n",
              "        border-radius: 50%;\n",
              "        cursor: pointer;\n",
              "        display: none;\n",
              "        fill: #1967D2;\n",
              "        height: 32px;\n",
              "        padding: 0 0 0 0;\n",
              "        width: 32px;\n",
              "      }\n",
              "\n",
              "      .colab-df-generate:hover {\n",
              "        background-color: #E2EBFA;\n",
              "        box-shadow: 0px 1px 2px rgba(60, 64, 67, 0.3), 0px 1px 3px 1px rgba(60, 64, 67, 0.15);\n",
              "        fill: #174EA6;\n",
              "      }\n",
              "\n",
              "      [theme=dark] .colab-df-generate {\n",
              "        background-color: #3B4455;\n",
              "        fill: #D2E3FC;\n",
              "      }\n",
              "\n",
              "      [theme=dark] .colab-df-generate:hover {\n",
              "        background-color: #434B5C;\n",
              "        box-shadow: 0px 1px 3px 1px rgba(0, 0, 0, 0.15);\n",
              "        filter: drop-shadow(0px 1px 2px rgba(0, 0, 0, 0.3));\n",
              "        fill: #FFFFFF;\n",
              "      }\n",
              "    </style>\n",
              "    <button class=\"colab-df-generate\" onclick=\"generateWithVariable('lS')\"\n",
              "            title=\"Generate code using this dataframe.\"\n",
              "            style=\"display:none;\">\n",
              "\n",
              "  <svg xmlns=\"http://www.w3.org/2000/svg\" height=\"24px\"viewBox=\"0 0 24 24\"\n",
              "       width=\"24px\">\n",
              "    <path d=\"M7,19H8.4L18.45,9,17,7.55,7,17.6ZM5,21V16.75L18.45,3.32a2,2,0,0,1,2.83,0l1.4,1.43a1.91,1.91,0,0,1,.58,1.4,1.91,1.91,0,0,1-.58,1.4L9.25,21ZM18.45,9,17,7.55Zm-12,3A5.31,5.31,0,0,0,4.9,8.1,5.31,5.31,0,0,0,1,6.5,5.31,5.31,0,0,0,4.9,4.9,5.31,5.31,0,0,0,6.5,1,5.31,5.31,0,0,0,8.1,4.9,5.31,5.31,0,0,0,12,6.5,5.46,5.46,0,0,0,6.5,12Z\"/>\n",
              "  </svg>\n",
              "    </button>\n",
              "    <script>\n",
              "      (() => {\n",
              "      const buttonEl =\n",
              "        document.querySelector('#id_6f195be0-bf11-4eda-a686-cc6d18b73062 button.colab-df-generate');\n",
              "      buttonEl.style.display =\n",
              "        google.colab.kernel.accessAllowed ? 'block' : 'none';\n",
              "\n",
              "      buttonEl.onclick = () => {\n",
              "        google.colab.notebook.generateWithVariable('lS');\n",
              "      }\n",
              "      })();\n",
              "    </script>\n",
              "  </div>\n",
              "\n",
              "    </div>\n",
              "  </div>\n"
            ],
            "application/vnd.google.colaboratory.intrinsic+json": {
              "type": "dataframe",
              "variable_name": "lS",
              "summary": "{\n  \"name\": \"lS\",\n  \"rows\": 11,\n  \"fields\": [\n    {\n      \"column\": \"rango\",\n      \"properties\": {\n        \"dtype\": \"number\",\n        \"std\": 3,\n        \"min\": 2,\n        \"max\": 12,\n        \"num_unique_values\": 11,\n        \"samples\": [\n          7,\n          2,\n          11\n        ],\n        \"semantic_type\": \"\",\n        \"description\": \"\"\n      }\n    },\n    {\n      \"column\": \"densidad\",\n      \"properties\": {\n        \"dtype\": \"number\",\n        \"std\": 0.0466317810924732,\n        \"min\": 0.027777777777777776,\n        \"max\": 0.16666666666666666,\n        \"num_unique_values\": 6,\n        \"samples\": [\n          0.027777777777777776,\n          0.05555555555555555,\n          0.16666666666666666\n        ],\n        \"semantic_type\": \"\",\n        \"description\": \"\"\n      }\n    }\n  ]\n}"
            }
          },
          "metadata": {},
          "execution_count": 59
        }
      ]
    },
    {
      "cell_type": "code",
      "source": [
        "lS.plot.bar( x= 'rango', y = 'densidad')"
      ],
      "metadata": {
        "colab": {
          "base_uri": "https://localhost:8080/",
          "height": 470
        },
        "id": "dLzu4rhd3-rq",
        "outputId": "14e3c7e5-9386-45eb-ba0d-752ffa3759a3"
      },
      "execution_count": 60,
      "outputs": [
        {
          "output_type": "execute_result",
          "data": {
            "text/plain": [
              "<Axes: xlabel='rango'>"
            ]
          },
          "metadata": {},
          "execution_count": 60
        },
        {
          "output_type": "display_data",
          "data": {
            "text/plain": [
              "<Figure size 640x480 with 1 Axes>"
            ],
            "image/png": "[encoded data removed]"
          },
          "metadata": {}
        }
      ]
    },
    {
      "cell_type": "markdown",
      "source": [
        "###<font color= \"f24421\"> Ejercicio:</font>\n",
        "Se tienen $2$ urnas, cada una de las cuales contiene $10$ bolas numeradas del $1$ al $10$.\n",
        "\n",
        "Un experimento aleatorio consiste en seleccionar al azar una bola de cada urna.\n",
        "\n",
        "Sea $X$ la variable aleatoria que representa la diferencia de los números de las dos bolas seleccionadas.\n",
        "\n",
        "* Define $\\Omega$\n",
        "* Calcula las probabilidades asociadas\n",
        "* Define la función de densidad\n",
        "* Verifica que $\\sum_{x\\in R_X}f_X(x) = 1$\n",
        "* Gráfica la función de densidad\n",
        "\n",
        "Además, calcula la probabilidad de que los números de las dos bolas seleccionadas difieran por $2$ o más."
      ],
      "metadata": {
        "id": "az7D6E8k03x5"
      }
    },
    {
      "cell_type": "code",
      "source": [
        "#Supongamos que para el experimento permitimos que después de que se haya seleccionado una bola, esta vuelva a la urna y vuelva a salir nuevamente. Entonces primero debemos de obtener el espacio muestral del experimento junto a su cardinalidad.\n",
        "import itertools\n",
        "from itertools import product\n",
        "\n",
        "Omega = set(product({'1','2','3','4','5','6','7','8','9','10'}, repeat=2)) #Obtenemos el espacio muestral de las dos urnas, donde cada una tiene las 10 bolas\n",
        "cardinalidad = len(Omega)\n",
        "print(f\"\\u03A9 = {Omega}\")\n",
        "print(f\"La cardinalidad de \\u03A9 es: {cardinalidad}\")"
      ],
      "metadata": {
        "colab": {
          "base_uri": "https://localhost:8080/"
        },
        "id": "jMPHvsvT14BS",
        "outputId": "dd6303c7-36f5-4b2e-9349-6192c4e057cf"
      },
      "execution_count": 37,
      "outputs": [
        {
          "output_type": "stream",
          "name": "stdout",
          "text": [
            "Ω = {('8', '1'), ('9', '9'), ('4', '2'), ('6', '8'), ('2', '5'), ('5', '5'), ('2', '7'), ('1', '4'), ('5', '7'), ('3', '10'), ('9', '4'), ('6', '3'), ('8', '9'), ('6', '1'), ('2', '4'), ('8', '6'), ('7', '5'), ('1', '8'), ('3', '2'), ('9', '8'), ('10', '5'), ('10', '7'), ('1', '3'), ('6', '6'), ('1', '1'), ('9', '3'), ('2', '8'), ('7', '4'), ('6', '2'), ('9', '1'), ('1', '10'), ('2', '3'), ('2', '1'), ('1', '6'), ('7', '8'), ('8', '10'), ('9', '6'), ('2', '9'), ('1', '2'), ('5', '9'), ('7', '3'), ('5', '4'), ('2', '6'), ('4', '5'), ('7', '1'), ('4', '7'), ('6', '10'), ('8', '2'), ('7', '9'), ('4', '4'), ('10', '9'), ('5', '8'), ('7', '6'), ('3', '5'), ('3', '7'), ('8', '7'), ('10', '4'), ('5', '3'), ('9', '10'), ('5', '1'), ('6', '5'), ('3', '4'), ('2', '10'), ('6', '7'), ('10', '8'), ('9', '2'), ('4', '1'), ('5', '6'), ('10', '3'), ('2', '2'), ('10', '1'), ('3', '8'), ('4', '9'), ('7', '10'), ('1', '5'), ('1', '7'), ('9', '5'), ('3', '3'), ('9', '7'), ('4', '6'), ('3', '1'), ('8', '5'), ('7', '2'), ('10', '6'), ('3', '9'), ('10', '2'), ('4', '8'), ('3', '6'), ('5', '10'), ('8', '4'), ('4', '3'), ('7', '7'), ('6', '9'), ('6', '4'), ('4', '10'), ('5', '2'), ('8', '8'), ('10', '10'), ('8', '3'), ('1', '9')}\n",
            "La cardinalidad de Ω es: 100\n"
          ]
        }
      ]
    },
    {
      "cell_type": "code",
      "source": [
        "#Ahora se debe de calcular la probabilidad de cada uno de nuestros eventos mediante la probabilidad clásica\n",
        "def P(A):\n",
        "    P = len(A)/len(Omega)\n",
        "    return P\n",
        "\n",
        "#Ahora, notemos que nuestra S_n será el evento de la diferencia entre los números de las bolas obtenidas, de este modo obtenemos lo siguiente:\n",
        "#Se agrega el absoluto en caso de que la bola de la urna numero 1 sea mayor a la bola de la urna numero dos. Y así tengamos solamente S_n desde 0 hasta 9.\n",
        "def S(n):\n",
        "    Sn = {(i,j) for i in range(1,11) for j in range(1,11) if abs(i-j)==n}\n",
        "    return Sn\n",
        "\n",
        "#Para verificar esto mismo buscaremos S_0\n",
        "print(S(0))\n"
      ],
      "metadata": {
        "colab": {
          "base_uri": "https://localhost:8080/"
        },
        "id": "jTQT19tM16DP",
        "outputId": "1eeb2d6c-2c49-476b-d54f-c5a50f45d57e"
      },
      "execution_count": 38,
      "outputs": [
        {
          "output_type": "stream",
          "name": "stdout",
          "text": [
            "{(4, 4), (8, 8), (5, 5), (7, 7), (9, 9), (1, 1), (10, 10), (3, 3), (2, 2), (6, 6)}\n"
          ]
        }
      ]
    },
    {
      "cell_type": "code",
      "source": [
        "#Como funciona, podemos proseguir, de esta manera crearemos un diccionario donde se desplieguen las parejas ordenadas alineadas con la diferencia de estas:\n",
        "S = {(i,j) : abs(int(i)-int(j)) for i,j in Omega}\n",
        "from collections import defaultdict\n",
        "\n",
        "#Se crea la lista bajo la cual se hace la agrupación por el resultado de la diferencia\n",
        "dS = defaultdict(set)\n",
        "for i,j in S.items():\n",
        "\n",
        "    dS[j].add(i)\n",
        "\n",
        "#Y aquí solo se le da formato para poder agruparlos y alinearlos de forma bonita\n",
        "import pandas as pd\n",
        "df=pd.DataFrame(list(dS.items()), columns=['Diferencia', 'Parejas'])\n",
        "df_sorted = df.sort_values(by='Diferencia',ascending=True)\n",
        "display(df_sorted)\n"
      ],
      "metadata": {
        "colab": {
          "base_uri": "https://localhost:8080/",
          "height": 363
        },
        "id": "GoobIWIW18ch",
        "outputId": "b1438c66-266c-4341-a3c1-483ddc2bd394"
      },
      "execution_count": 39,
      "outputs": [
        {
          "output_type": "display_data",
          "data": {
            "text/plain": [
              "   Diferencia                                            Parejas\n",
              "1           0  {(8, 8), (1, 1), (9, 9), (4, 4), (5, 5), (3, 3...\n",
              "5           1  {(6, 5), (3, 2), (3, 4), (7, 8), (1, 2), (4, 5...\n",
              "2           2  {(5, 3), (4, 2), (6, 8), (9, 7), (10, 8), (5, ...\n",
              "3           3  {(4, 7), (9, 6), (8, 5), (7, 4), (2, 5), (3, 6...\n",
              "7           4  {(4, 8), (6, 10), (5, 9), (3, 7), (9, 5), (10,...\n",
              "4           5  {(6, 1), (7, 2), (5, 10), (2, 7), (10, 5), (8,...\n",
              "6           6  {(1, 7), (9, 3), (10, 4), (2, 8), (8, 2), (3, ...\n",
              "0           7  {(8, 1), (1, 8), (2, 9), (10, 3), (3, 10), (9,...\n",
              "8           8                 {(1, 9), (10, 2), (2, 10), (9, 1)}\n",
              "9           9                                 {(10, 1), (1, 10)}"
            ],
            "text/html": [
              "\n",
              "  <div id=\"df-0e3bf971-3c69-4240-bfec-0dba92ac38fe\" class=\"colab-df-container\">\n",
              "    <div>\n",
              "<style scoped>\n",
              "    .dataframe tbody tr th:only-of-type {\n",
              "        vertical-align: middle;\n",
              "    }\n",
              "\n",
              "    .dataframe tbody tr th {\n",
              "        vertical-align: top;\n",
              "    }\n",
              "\n",
              "    .dataframe thead th {\n",
              "        text-align: right;\n",
              "    }\n",
              "</style>\n",
              "<table border=\"1\" class=\"dataframe\">\n",
              "  <thead>\n",
              "    <tr style=\"text-align: right;\">\n",
              "      <th></th>\n",
              "      <th>Diferencia</th>\n",
              "      <th>Parejas</th>\n",
              "    </tr>\n",
              "  </thead>\n",
              "  <tbody>\n",
              "    <tr>\n",
              "      <th>1</th>\n",
              "      <td>0</td>\n",
              "      <td>{(8, 8), (1, 1), (9, 9), (4, 4), (5, 5), (3, 3...</td>\n",
              "    </tr>\n",
              "    <tr>\n",
              "      <th>5</th>\n",
              "      <td>1</td>\n",
              "      <td>{(6, 5), (3, 2), (3, 4), (7, 8), (1, 2), (4, 5...</td>\n",
              "    </tr>\n",
              "    <tr>\n",
              "      <th>2</th>\n",
              "      <td>2</td>\n",
              "      <td>{(5, 3), (4, 2), (6, 8), (9, 7), (10, 8), (5, ...</td>\n",
              "    </tr>\n",
              "    <tr>\n",
              "      <th>3</th>\n",
              "      <td>3</td>\n",
              "      <td>{(4, 7), (9, 6), (8, 5), (7, 4), (2, 5), (3, 6...</td>\n",
              "    </tr>\n",
              "    <tr>\n",
              "      <th>7</th>\n",
              "      <td>4</td>\n",
              "      <td>{(4, 8), (6, 10), (5, 9), (3, 7), (9, 5), (10,...</td>\n",
              "    </tr>\n",
              "    <tr>\n",
              "      <th>4</th>\n",
              "      <td>5</td>\n",
              "      <td>{(6, 1), (7, 2), (5, 10), (2, 7), (10, 5), (8,...</td>\n",
              "    </tr>\n",
              "    <tr>\n",
              "      <th>6</th>\n",
              "      <td>6</td>\n",
              "      <td>{(1, 7), (9, 3), (10, 4), (2, 8), (8, 2), (3, ...</td>\n",
              "    </tr>\n",
              "    <tr>\n",
              "      <th>0</th>\n",
              "      <td>7</td>\n",
              "      <td>{(8, 1), (1, 8), (2, 9), (10, 3), (3, 10), (9,...</td>\n",
              "    </tr>\n",
              "    <tr>\n",
              "      <th>8</th>\n",
              "      <td>8</td>\n",
              "      <td>{(1, 9), (10, 2), (2, 10), (9, 1)}</td>\n",
              "    </tr>\n",
              "    <tr>\n",
              "      <th>9</th>\n",
              "      <td>9</td>\n",
              "      <td>{(10, 1), (1, 10)}</td>\n",
              "    </tr>\n",
              "  </tbody>\n",
              "</table>\n",
              "</div>\n",
              "    <div class=\"colab-df-buttons\">\n",
              "\n",
              "  <div class=\"colab-df-container\">\n",
              "    <button class=\"colab-df-convert\" onclick=\"convertToInteractive('df-0e3bf971-3c69-4240-bfec-0dba92ac38fe')\"\n",
              "            title=\"Convert this dataframe to an interactive table.\"\n",
              "            style=\"display:none;\">\n",
              "\n",
              "  <svg xmlns=\"http://www.w3.org/2000/svg\" height=\"24px\" viewBox=\"0 -960 960 960\">\n",
              "    <path d=\"M120-120v-720h720v720H120Zm60-500h600v-160H180v160Zm220 220h160v-160H400v160Zm0 220h160v-160H400v160ZM180-400h160v-160H180v160Zm440 0h160v-160H620v160ZM180-180h160v-160H180v160Zm440 0h160v-160H620v160Z\"/>\n",
              "  </svg>\n",
              "    </button>\n",
              "\n",
              "  <style>\n",
              "    .colab-df-container {\n",
              "      display:flex;\n",
              "      gap: 12px;\n",
              "    }\n",
              "\n",
              "    .colab-df-convert {\n",
              "      background-color: #E8F0FE;\n",
              "      border: none;\n",
              "      border-radius: 50%;\n",
              "      cursor: pointer;\n",
              "      display: none;\n",
              "      fill: #1967D2;\n",
              "      height: 32px;\n",
              "      padding: 0 0 0 0;\n",
              "      width: 32px;\n",
              "    }\n",
              "\n",
              "    .colab-df-convert:hover {\n",
              "      background-color: #E2EBFA;\n",
              "      box-shadow: 0px 1px 2px rgba(60, 64, 67, 0.3), 0px 1px 3px 1px rgba(60, 64, 67, 0.15);\n",
              "      fill: #174EA6;\n",
              "    }\n",
              "\n",
              "    .colab-df-buttons div {\n",
              "      margin-bottom: 4px;\n",
              "    }\n",
              "\n",
              "    [theme=dark] .colab-df-convert {\n",
              "      background-color: #3B4455;\n",
              "      fill: #D2E3FC;\n",
              "    }\n",
              "\n",
              "    [theme=dark] .colab-df-convert:hover {\n",
              "      background-color: #434B5C;\n",
              "      box-shadow: 0px 1px 3px 1px rgba(0, 0, 0, 0.15);\n",
              "      filter: drop-shadow(0px 1px 2px rgba(0, 0, 0, 0.3));\n",
              "      fill: #FFFFFF;\n",
              "    }\n",
              "  </style>\n",
              "\n",
              "    <script>\n",
              "      const buttonEl =\n",
              "        document.querySelector('#df-0e3bf971-3c69-4240-bfec-0dba92ac38fe button.colab-df-convert');\n",
              "      buttonEl.style.display =\n",
              "        google.colab.kernel.accessAllowed ? 'block' : 'none';\n",
              "\n",
              "      async function convertToInteractive(key) {\n",
              "        const element = document.querySelector('#df-0e3bf971-3c69-4240-bfec-0dba92ac38fe');\n",
              "        const dataTable =\n",
              "          await google.colab.kernel.invokeFunction('convertToInteractive',\n",
              "                                                    [key], {});\n",
              "        if (!dataTable) return;\n",
              "\n",
              "        const docLinkHtml = 'Like what you see? Visit the ' +\n",
              "          '<a target=\"_blank\" href=https://colab.research.google.com/notebooks/data_table.ipynb>data table notebook</a>'\n",
              "          + ' to learn more about interactive tables.';\n",
              "        element.innerHTML = '';\n",
              "        dataTable['output_type'] = 'display_data';\n",
              "        await google.colab.output.renderOutput(dataTable, element);\n",
              "        const docLink = document.createElement('div');\n",
              "        docLink.innerHTML = docLinkHtml;\n",
              "        element.appendChild(docLink);\n",
              "      }\n",
              "    </script>\n",
              "  </div>\n",
              "\n",
              "\n",
              "<div id=\"df-4757d076-e330-4195-bf84-fe71ac33d86a\">\n",
              "  <button class=\"colab-df-quickchart\" onclick=\"quickchart('df-4757d076-e330-4195-bf84-fe71ac33d86a')\"\n",
              "            title=\"Suggest charts\"\n",
              "            style=\"display:none;\">\n",
              "\n",
              "<svg xmlns=\"http://www.w3.org/2000/svg\" height=\"24px\"viewBox=\"0 0 24 24\"\n",
              "     width=\"24px\">\n",
              "    <g>\n",
              "        <path d=\"M19 3H5c-1.1 0-2 .9-2 2v14c0 1.1.9 2 2 2h14c1.1 0 2-.9 2-2V5c0-1.1-.9-2-2-2zM9 17H7v-7h2v7zm4 0h-2V7h2v10zm4 0h-2v-4h2v4z\"/>\n",
              "    </g>\n",
              "</svg>\n",
              "  </button>\n",
              "\n",
              "<style>\n",
              "  .colab-df-quickchart {\n",
              "      --bg-color: #E8F0FE;\n",
              "      --fill-color: #1967D2;\n",
              "      --hover-bg-color: #E2EBFA;\n",
              "      --hover-fill-color: #174EA6;\n",
              "      --disabled-fill-color: #AAA;\n",
              "      --disabled-bg-color: #DDD;\n",
              "  }\n",
              "\n",
              "  [theme=dark] .colab-df-quickchart {\n",
              "      --bg-color: #3B4455;\n",
              "      --fill-color: #D2E3FC;\n",
              "      --hover-bg-color: #434B5C;\n",
              "      --hover-fill-color: #FFFFFF;\n",
              "      --disabled-bg-color: #3B4455;\n",
              "      --disabled-fill-color: #666;\n",
              "  }\n",
              "\n",
              "  .colab-df-quickchart {\n",
              "    background-color: var(--bg-color);\n",
              "    border: none;\n",
              "    border-radius: 50%;\n",
              "    cursor: pointer;\n",
              "    display: none;\n",
              "    fill: var(--fill-color);\n",
              "    height: 32px;\n",
              "    padding: 0;\n",
              "    width: 32px;\n",
              "  }\n",
              "\n",
              "  .colab-df-quickchart:hover {\n",
              "    background-color: var(--hover-bg-color);\n",
              "    box-shadow: 0 1px 2px rgba(60, 64, 67, 0.3), 0 1px 3px 1px rgba(60, 64, 67, 0.15);\n",
              "    fill: var(--button-hover-fill-color);\n",
              "  }\n",
              "\n",
              "  .colab-df-quickchart-complete:disabled,\n",
              "  .colab-df-quickchart-complete:disabled:hover {\n",
              "    background-color: var(--disabled-bg-color);\n",
              "    fill: var(--disabled-fill-color);\n",
              "    box-shadow: none;\n",
              "  }\n",
              "\n",
              "  .colab-df-spinner {\n",
              "    border: 2px solid var(--fill-color);\n",
              "    border-color: transparent;\n",
              "    border-bottom-color: var(--fill-color);\n",
              "    animation:\n",
              "      spin 1s steps(1) infinite;\n",
              "  }\n",
              "\n",
              "  @keyframes spin {\n",
              "    0% {\n",
              "      border-color: transparent;\n",
              "      border-bottom-color: var(--fill-color);\n",
              "      border-left-color: var(--fill-color);\n",
              "    }\n",
              "    20% {\n",
              "      border-color: transparent;\n",
              "      border-left-color: var(--fill-color);\n",
              "      border-top-color: var(--fill-color);\n",
              "    }\n",
              "    30% {\n",
              "      border-color: transparent;\n",
              "      border-left-color: var(--fill-color);\n",
              "      border-top-color: var(--fill-color);\n",
              "      border-right-color: var(--fill-color);\n",
              "    }\n",
              "    40% {\n",
              "      border-color: transparent;\n",
              "      border-right-color: var(--fill-color);\n",
              "      border-top-color: var(--fill-color);\n",
              "    }\n",
              "    60% {\n",
              "      border-color: transparent;\n",
              "      border-right-color: var(--fill-color);\n",
              "    }\n",
              "    80% {\n",
              "      border-color: transparent;\n",
              "      border-right-color: var(--fill-color);\n",
              "      border-bottom-color: var(--fill-color);\n",
              "    }\n",
              "    90% {\n",
              "      border-color: transparent;\n",
              "      border-bottom-color: var(--fill-color);\n",
              "    }\n",
              "  }\n",
              "</style>\n",
              "\n",
              "  <script>\n",
              "    async function quickchart(key) {\n",
              "      const quickchartButtonEl =\n",
              "        document.querySelector('#' + key + ' button');\n",
              "      quickchartButtonEl.disabled = true;  // To prevent multiple clicks.\n",
              "      quickchartButtonEl.classList.add('colab-df-spinner');\n",
              "      try {\n",
              "        const charts = await google.colab.kernel.invokeFunction(\n",
              "            'suggestCharts', [key], {});\n",
              "      } catch (error) {\n",
              "        console.error('Error during call to suggestCharts:', error);\n",
              "      }\n",
              "      quickchartButtonEl.classList.remove('colab-df-spinner');\n",
              "      quickchartButtonEl.classList.add('colab-df-quickchart-complete');\n",
              "    }\n",
              "    (() => {\n",
              "      let quickchartButtonEl =\n",
              "        document.querySelector('#df-4757d076-e330-4195-bf84-fe71ac33d86a button');\n",
              "      quickchartButtonEl.style.display =\n",
              "        google.colab.kernel.accessAllowed ? 'block' : 'none';\n",
              "    })();\n",
              "  </script>\n",
              "</div>\n",
              "\n",
              "  <div id=\"id_1a679c79-9d62-464f-a764-5624beb5fe27\">\n",
              "    <style>\n",
              "      .colab-df-generate {\n",
              "        background-color: #E8F0FE;\n",
              "        border: none;\n",
              "        border-radius: 50%;\n",
              "        cursor: pointer;\n",
              "        display: none;\n",
              "        fill: #1967D2;\n",
              "        height: 32px;\n",
              "        padding: 0 0 0 0;\n",
              "        width: 32px;\n",
              "      }\n",
              "\n",
              "      .colab-df-generate:hover {\n",
              "        background-color: #E2EBFA;\n",
              "        box-shadow: 0px 1px 2px rgba(60, 64, 67, 0.3), 0px 1px 3px 1px rgba(60, 64, 67, 0.15);\n",
              "        fill: #174EA6;\n",
              "      }\n",
              "\n",
              "      [theme=dark] .colab-df-generate {\n",
              "        background-color: #3B4455;\n",
              "        fill: #D2E3FC;\n",
              "      }\n",
              "\n",
              "      [theme=dark] .colab-df-generate:hover {\n",
              "        background-color: #434B5C;\n",
              "        box-shadow: 0px 1px 3px 1px rgba(0, 0, 0, 0.15);\n",
              "        filter: drop-shadow(0px 1px 2px rgba(0, 0, 0, 0.3));\n",
              "        fill: #FFFFFF;\n",
              "      }\n",
              "    </style>\n",
              "    <button class=\"colab-df-generate\" onclick=\"generateWithVariable('df_sorted')\"\n",
              "            title=\"Generate code using this dataframe.\"\n",
              "            style=\"display:none;\">\n",
              "\n",
              "  <svg xmlns=\"http://www.w3.org/2000/svg\" height=\"24px\"viewBox=\"0 0 24 24\"\n",
              "       width=\"24px\">\n",
              "    <path d=\"M7,19H8.4L18.45,9,17,7.55,7,17.6ZM5,21V16.75L18.45,3.32a2,2,0,0,1,2.83,0l1.4,1.43a1.91,1.91,0,0,1,.58,1.4,1.91,1.91,0,0,1-.58,1.4L9.25,21ZM18.45,9,17,7.55Zm-12,3A5.31,5.31,0,0,0,4.9,8.1,5.31,5.31,0,0,0,1,6.5,5.31,5.31,0,0,0,4.9,4.9,5.31,5.31,0,0,0,6.5,1,5.31,5.31,0,0,0,8.1,4.9,5.31,5.31,0,0,0,12,6.5,5.46,5.46,0,0,0,6.5,12Z\"/>\n",
              "  </svg>\n",
              "    </button>\n",
              "    <script>\n",
              "      (() => {\n",
              "      const buttonEl =\n",
              "        document.querySelector('#id_1a679c79-9d62-464f-a764-5624beb5fe27 button.colab-df-generate');\n",
              "      buttonEl.style.display =\n",
              "        google.colab.kernel.accessAllowed ? 'block' : 'none';\n",
              "\n",
              "      buttonEl.onclick = () => {\n",
              "        google.colab.notebook.generateWithVariable('df_sorted');\n",
              "      }\n",
              "      })();\n",
              "    </script>\n",
              "  </div>\n",
              "\n",
              "    </div>\n",
              "  </div>\n"
            ],
            "application/vnd.google.colaboratory.intrinsic+json": {
              "type": "dataframe",
              "variable_name": "df_sorted",
              "summary": "{\n  \"name\": \"df_sorted\",\n  \"rows\": 10,\n  \"fields\": [\n    {\n      \"column\": \"Diferencia\",\n      \"properties\": {\n        \"dtype\": \"number\",\n        \"std\": 3,\n        \"min\": 0,\n        \"max\": 9,\n        \"num_unique_values\": 10,\n        \"samples\": [\n          8,\n          1,\n          5\n        ],\n        \"semantic_type\": \"\",\n        \"description\": \"\"\n      }\n    },\n    {\n      \"column\": \"Parejas\",\n      \"properties\": {\n        \"dtype\": \"object\",\n        \"semantic_type\": \"\",\n        \"description\": \"\"\n      }\n    }\n  ]\n}"
            }
          },
          "metadata": {}
        }
      ]
    },
    {
      "cell_type": "code",
      "source": [
        "#Ahora debemos de cálcular las probabilidades de cada S, es decir, la probabilidad de cada resultado de las diferencias.\n",
        "leyS = {i : P(A) for i, A in dS.items() }\n",
        "ley_S = pd.Series(leyS)\n",
        "ley_S.sort_index() #ordenar"
      ],
      "metadata": {
        "colab": {
          "base_uri": "https://localhost:8080/",
          "height": 398
        },
        "id": "JwvZ2aC-2B6q",
        "outputId": "5785e1d7-f09f-4327-e32b-0afbc47f849c"
      },
      "execution_count": 40,
      "outputs": [
        {
          "output_type": "execute_result",
          "data": {
            "text/plain": [
              "0    0.10\n",
              "1    0.18\n",
              "2    0.16\n",
              "3    0.14\n",
              "4    0.12\n",
              "5    0.10\n",
              "6    0.08\n",
              "7    0.06\n",
              "8    0.04\n",
              "9    0.02\n",
              "dtype: float64"
            ],
            "text/html": [
              "<div>\n",
              "<style scoped>\n",
              "    .dataframe tbody tr th:only-of-type {\n",
              "        vertical-align: middle;\n",
              "    }\n",
              "\n",
              "    .dataframe tbody tr th {\n",
              "        vertical-align: top;\n",
              "    }\n",
              "\n",
              "    .dataframe thead th {\n",
              "        text-align: right;\n",
              "    }\n",
              "</style>\n",
              "<table border=\"1\" class=\"dataframe\">\n",
              "  <thead>\n",
              "    <tr style=\"text-align: right;\">\n",
              "      <th></th>\n",
              "      <th>0</th>\n",
              "    </tr>\n",
              "  </thead>\n",
              "  <tbody>\n",
              "    <tr>\n",
              "      <th>0</th>\n",
              "      <td>0.10</td>\n",
              "    </tr>\n",
              "    <tr>\n",
              "      <th>1</th>\n",
              "      <td>0.18</td>\n",
              "    </tr>\n",
              "    <tr>\n",
              "      <th>2</th>\n",
              "      <td>0.16</td>\n",
              "    </tr>\n",
              "    <tr>\n",
              "      <th>3</th>\n",
              "      <td>0.14</td>\n",
              "    </tr>\n",
              "    <tr>\n",
              "      <th>4</th>\n",
              "      <td>0.12</td>\n",
              "    </tr>\n",
              "    <tr>\n",
              "      <th>5</th>\n",
              "      <td>0.10</td>\n",
              "    </tr>\n",
              "    <tr>\n",
              "      <th>6</th>\n",
              "      <td>0.08</td>\n",
              "    </tr>\n",
              "    <tr>\n",
              "      <th>7</th>\n",
              "      <td>0.06</td>\n",
              "    </tr>\n",
              "    <tr>\n",
              "      <th>8</th>\n",
              "      <td>0.04</td>\n",
              "    </tr>\n",
              "    <tr>\n",
              "      <th>9</th>\n",
              "      <td>0.02</td>\n",
              "    </tr>\n",
              "  </tbody>\n",
              "</table>\n",
              "</div><br><label><b>dtype:</b> float64</label>"
            ]
          },
          "metadata": {},
          "execution_count": 40
        }
      ]
    },
    {
      "cell_type": "code",
      "source": [
        "# Con LeyS(i) obtenemos la probabilidad de obtener la diferencia i, si está en el rango de posibles diferencias.\n",
        "# El rango S es el rango donde se puede obtener la diferencia.\n",
        "rango_S = [k for k in range(0,10)]\n",
        "\n",
        "def leyS(i):\n",
        "    if i in range(0,10):\n",
        "        x = ley_S[i]\n",
        "    else:\n",
        "        x = 0 # si no está en el rango me devuelve cero\n",
        "    return x\n",
        "\n",
        "#Obtenemos la probabilidad de cada suma\n",
        "p_k = [float(leyS(k)) for k in rango_S]\n",
        "\n",
        "# Creamos un DataFrame con:\n",
        "# - los valores del rango_S\n",
        "# - las probabilidades p_k\n",
        "# Indexamos una etiqueta S_2,...,S_12\n",
        "\n",
        "# zip() -> toma dos listas y las combina en pares ordenados\n",
        "lS = pd.DataFrame(list(zip(rango_S, p_k)), index=[f\"S_{i}\" for i in range(0,10)], columns = ['Diferencia','Probabilidad'])\n",
        "lS"
      ],
      "metadata": {
        "colab": {
          "base_uri": "https://localhost:8080/",
          "height": 363
        },
        "id": "h-7UBsCS2D8Z",
        "outputId": "c8973abb-2d12-472b-fd92-eb037743d323"
      },
      "execution_count": 41,
      "outputs": [
        {
          "output_type": "execute_result",
          "data": {
            "text/plain": [
              "     Diferencia  Probabilidad\n",
              "S_0           0          0.10\n",
              "S_1           1          0.18\n",
              "S_2           2          0.16\n",
              "S_3           3          0.14\n",
              "S_4           4          0.12\n",
              "S_5           5          0.10\n",
              "S_6           6          0.08\n",
              "S_7           7          0.06\n",
              "S_8           8          0.04\n",
              "S_9           9          0.02"
            ],
            "text/html": [
              "\n",
              "  <div id=\"df-ff34154a-8e19-4b7f-a33b-c13a7ee8bd2f\" class=\"colab-df-container\">\n",
              "    <div>\n",
              "<style scoped>\n",
              "    .dataframe tbody tr th:only-of-type {\n",
              "        vertical-align: middle;\n",
              "    }\n",
              "\n",
              "    .dataframe tbody tr th {\n",
              "        vertical-align: top;\n",
              "    }\n",
              "\n",
              "    .dataframe thead th {\n",
              "        text-align: right;\n",
              "    }\n",
              "</style>\n",
              "<table border=\"1\" class=\"dataframe\">\n",
              "  <thead>\n",
              "    <tr style=\"text-align: right;\">\n",
              "      <th></th>\n",
              "      <th>Diferencia</th>\n",
              "      <th>Probabilidad</th>\n",
              "    </tr>\n",
              "  </thead>\n",
              "  <tbody>\n",
              "    <tr>\n",
              "      <th>S_0</th>\n",
              "      <td>0</td>\n",
              "      <td>0.10</td>\n",
              "    </tr>\n",
              "    <tr>\n",
              "      <th>S_1</th>\n",
              "      <td>1</td>\n",
              "      <td>0.18</td>\n",
              "    </tr>\n",
              "    <tr>\n",
              "      <th>S_2</th>\n",
              "      <td>2</td>\n",
              "      <td>0.16</td>\n",
              "    </tr>\n",
              "    <tr>\n",
              "      <th>S_3</th>\n",
              "      <td>3</td>\n",
              "      <td>0.14</td>\n",
              "    </tr>\n",
              "    <tr>\n",
              "      <th>S_4</th>\n",
              "      <td>4</td>\n",
              "      <td>0.12</td>\n",
              "    </tr>\n",
              "    <tr>\n",
              "      <th>S_5</th>\n",
              "      <td>5</td>\n",
              "      <td>0.10</td>\n",
              "    </tr>\n",
              "    <tr>\n",
              "      <th>S_6</th>\n",
              "      <td>6</td>\n",
              "      <td>0.08</td>\n",
              "    </tr>\n",
              "    <tr>\n",
              "      <th>S_7</th>\n",
              "      <td>7</td>\n",
              "      <td>0.06</td>\n",
              "    </tr>\n",
              "    <tr>\n",
              "      <th>S_8</th>\n",
              "      <td>8</td>\n",
              "      <td>0.04</td>\n",
              "    </tr>\n",
              "    <tr>\n",
              "      <th>S_9</th>\n",
              "      <td>9</td>\n",
              "      <td>0.02</td>\n",
              "    </tr>\n",
              "  </tbody>\n",
              "</table>\n",
              "</div>\n",
              "    <div class=\"colab-df-buttons\">\n",
              "\n",
              "  <div class=\"colab-df-container\">\n",
              "    <button class=\"colab-df-convert\" onclick=\"convertToInteractive('df-ff34154a-8e19-4b7f-a33b-c13a7ee8bd2f')\"\n",
              "            title=\"Convert this dataframe to an interactive table.\"\n",
              "            style=\"display:none;\">\n",
              "\n",
              "  <svg xmlns=\"http://www.w3.org/2000/svg\" height=\"24px\" viewBox=\"0 -960 960 960\">\n",
              "    <path d=\"M120-120v-720h720v720H120Zm60-500h600v-160H180v160Zm220 220h160v-160H400v160Zm0 220h160v-160H400v160ZM180-400h160v-160H180v160Zm440 0h160v-160H620v160ZM180-180h160v-160H180v160Zm440 0h160v-160H620v160Z\"/>\n",
              "  </svg>\n",
              "    </button>\n",
              "\n",
              "  <style>\n",
              "    .colab-df-container {\n",
              "      display:flex;\n",
              "      gap: 12px;\n",
              "    }\n",
              "\n",
              "    .colab-df-convert {\n",
              "      background-color: #E8F0FE;\n",
              "      border: none;\n",
              "      border-radius: 50%;\n",
              "      cursor: pointer;\n",
              "      display: none;\n",
              "      fill: #1967D2;\n",
              "      height: 32px;\n",
              "      padding: 0 0 0 0;\n",
              "      width: 32px;\n",
              "    }\n",
              "\n",
              "    .colab-df-convert:hover {\n",
              "      background-color: #E2EBFA;\n",
              "      box-shadow: 0px 1px 2px rgba(60, 64, 67, 0.3), 0px 1px 3px 1px rgba(60, 64, 67, 0.15);\n",
              "      fill: #174EA6;\n",
              "    }\n",
              "\n",
              "    .colab-df-buttons div {\n",
              "      margin-bottom: 4px;\n",
              "    }\n",
              "\n",
              "    [theme=dark] .colab-df-convert {\n",
              "      background-color: #3B4455;\n",
              "      fill: #D2E3FC;\n",
              "    }\n",
              "\n",
              "    [theme=dark] .colab-df-convert:hover {\n",
              "      background-color: #434B5C;\n",
              "      box-shadow: 0px 1px 3px 1px rgba(0, 0, 0, 0.15);\n",
              "      filter: drop-shadow(0px 1px 2px rgba(0, 0, 0, 0.3));\n",
              "      fill: #FFFFFF;\n",
              "    }\n",
              "  </style>\n",
              "\n",
              "    <script>\n",
              "      const buttonEl =\n",
              "        document.querySelector('#df-ff34154a-8e19-4b7f-a33b-c13a7ee8bd2f button.colab-df-convert');\n",
              "      buttonEl.style.display =\n",
              "        google.colab.kernel.accessAllowed ? 'block' : 'none';\n",
              "\n",
              "      async function convertToInteractive(key) {\n",
              "        const element = document.querySelector('#df-ff34154a-8e19-4b7f-a33b-c13a7ee8bd2f');\n",
              "        const dataTable =\n",
              "          await google.colab.kernel.invokeFunction('convertToInteractive',\n",
              "                                                    [key], {});\n",
              "        if (!dataTable) return;\n",
              "\n",
              "        const docLinkHtml = 'Like what you see? Visit the ' +\n",
              "          '<a target=\"_blank\" href=https://colab.research.google.com/notebooks/data_table.ipynb>data table notebook</a>'\n",
              "          + ' to learn more about interactive tables.';\n",
              "        element.innerHTML = '';\n",
              "        dataTable['output_type'] = 'display_data';\n",
              "        await google.colab.output.renderOutput(dataTable, element);\n",
              "        const docLink = document.createElement('div');\n",
              "        docLink.innerHTML = docLinkHtml;\n",
              "        element.appendChild(docLink);\n",
              "      }\n",
              "    </script>\n",
              "  </div>\n",
              "\n",
              "\n",
              "<div id=\"df-39416d34-98dc-4969-974a-589633a7696b\">\n",
              "  <button class=\"colab-df-quickchart\" onclick=\"quickchart('df-39416d34-98dc-4969-974a-589633a7696b')\"\n",
              "            title=\"Suggest charts\"\n",
              "            style=\"display:none;\">\n",
              "\n",
              "<svg xmlns=\"http://www.w3.org/2000/svg\" height=\"24px\"viewBox=\"0 0 24 24\"\n",
              "     width=\"24px\">\n",
              "    <g>\n",
              "        <path d=\"M19 3H5c-1.1 0-2 .9-2 2v14c0 1.1.9 2 2 2h14c1.1 0 2-.9 2-2V5c0-1.1-.9-2-2-2zM9 17H7v-7h2v7zm4 0h-2V7h2v10zm4 0h-2v-4h2v4z\"/>\n",
              "    </g>\n",
              "</svg>\n",
              "  </button>\n",
              "\n",
              "<style>\n",
              "  .colab-df-quickchart {\n",
              "      --bg-color: #E8F0FE;\n",
              "      --fill-color: #1967D2;\n",
              "      --hover-bg-color: #E2EBFA;\n",
              "      --hover-fill-color: #174EA6;\n",
              "      --disabled-fill-color: #AAA;\n",
              "      --disabled-bg-color: #DDD;\n",
              "  }\n",
              "\n",
              "  [theme=dark] .colab-df-quickchart {\n",
              "      --bg-color: #3B4455;\n",
              "      --fill-color: #D2E3FC;\n",
              "      --hover-bg-color: #434B5C;\n",
              "      --hover-fill-color: #FFFFFF;\n",
              "      --disabled-bg-color: #3B4455;\n",
              "      --disabled-fill-color: #666;\n",
              "  }\n",
              "\n",
              "  .colab-df-quickchart {\n",
              "    background-color: var(--bg-color);\n",
              "    border: none;\n",
              "    border-radius: 50%;\n",
              "    cursor: pointer;\n",
              "    display: none;\n",
              "    fill: var(--fill-color);\n",
              "    height: 32px;\n",
              "    padding: 0;\n",
              "    width: 32px;\n",
              "  }\n",
              "\n",
              "  .colab-df-quickchart:hover {\n",
              "    background-color: var(--hover-bg-color);\n",
              "    box-shadow: 0 1px 2px rgba(60, 64, 67, 0.3), 0 1px 3px 1px rgba(60, 64, 67, 0.15);\n",
              "    fill: var(--button-hover-fill-color);\n",
              "  }\n",
              "\n",
              "  .colab-df-quickchart-complete:disabled,\n",
              "  .colab-df-quickchart-complete:disabled:hover {\n",
              "    background-color: var(--disabled-bg-color);\n",
              "    fill: var(--disabled-fill-color);\n",
              "    box-shadow: none;\n",
              "  }\n",
              "\n",
              "  .colab-df-spinner {\n",
              "    border: 2px solid var(--fill-color);\n",
              "    border-color: transparent;\n",
              "    border-bottom-color: var(--fill-color);\n",
              "    animation:\n",
              "      spin 1s steps(1) infinite;\n",
              "  }\n",
              "\n",
              "  @keyframes spin {\n",
              "    0% {\n",
              "      border-color: transparent;\n",
              "      border-bottom-color: var(--fill-color);\n",
              "      border-left-color: var(--fill-color);\n",
              "    }\n",
              "    20% {\n",
              "      border-color: transparent;\n",
              "      border-left-color: var(--fill-color);\n",
              "      border-top-color: var(--fill-color);\n",
              "    }\n",
              "    30% {\n",
              "      border-color: transparent;\n",
              "      border-left-color: var(--fill-color);\n",
              "      border-top-color: var(--fill-color);\n",
              "      border-right-color: var(--fill-color);\n",
              "    }\n",
              "    40% {\n",
              "      border-color: transparent;\n",
              "      border-right-color: var(--fill-color);\n",
              "      border-top-color: var(--fill-color);\n",
              "    }\n",
              "    60% {\n",
              "      border-color: transparent;\n",
              "      border-right-color: var(--fill-color);\n",
              "    }\n",
              "    80% {\n",
              "      border-color: transparent;\n",
              "      border-right-color: var(--fill-color);\n",
              "      border-bottom-color: var(--fill-color);\n",
              "    }\n",
              "    90% {\n",
              "      border-color: transparent;\n",
              "      border-bottom-color: var(--fill-color);\n",
              "    }\n",
              "  }\n",
              "</style>\n",
              "\n",
              "  <script>\n",
              "    async function quickchart(key) {\n",
              "      const quickchartButtonEl =\n",
              "        document.querySelector('#' + key + ' button');\n",
              "      quickchartButtonEl.disabled = true;  // To prevent multiple clicks.\n",
              "      quickchartButtonEl.classList.add('colab-df-spinner');\n",
              "      try {\n",
              "        const charts = await google.colab.kernel.invokeFunction(\n",
              "            'suggestCharts', [key], {});\n",
              "      } catch (error) {\n",
              "        console.error('Error during call to suggestCharts:', error);\n",
              "      }\n",
              "      quickchartButtonEl.classList.remove('colab-df-spinner');\n",
              "      quickchartButtonEl.classList.add('colab-df-quickchart-complete');\n",
              "    }\n",
              "    (() => {\n",
              "      let quickchartButtonEl =\n",
              "        document.querySelector('#df-39416d34-98dc-4969-974a-589633a7696b button');\n",
              "      quickchartButtonEl.style.display =\n",
              "        google.colab.kernel.accessAllowed ? 'block' : 'none';\n",
              "    })();\n",
              "  </script>\n",
              "</div>\n",
              "\n",
              "  <div id=\"id_fb9906a5-7bc6-4115-afa7-297c3fd00644\">\n",
              "    <style>\n",
              "      .colab-df-generate {\n",
              "        background-color: #E8F0FE;\n",
              "        border: none;\n",
              "        border-radius: 50%;\n",
              "        cursor: pointer;\n",
              "        display: none;\n",
              "        fill: #1967D2;\n",
              "        height: 32px;\n",
              "        padding: 0 0 0 0;\n",
              "        width: 32px;\n",
              "      }\n",
              "\n",
              "      .colab-df-generate:hover {\n",
              "        background-color: #E2EBFA;\n",
              "        box-shadow: 0px 1px 2px rgba(60, 64, 67, 0.3), 0px 1px 3px 1px rgba(60, 64, 67, 0.15);\n",
              "        fill: #174EA6;\n",
              "      }\n",
              "\n",
              "      [theme=dark] .colab-df-generate {\n",
              "        background-color: #3B4455;\n",
              "        fill: #D2E3FC;\n",
              "      }\n",
              "\n",
              "      [theme=dark] .colab-df-generate:hover {\n",
              "        background-color: #434B5C;\n",
              "        box-shadow: 0px 1px 3px 1px rgba(0, 0, 0, 0.15);\n",
              "        filter: drop-shadow(0px 1px 2px rgba(0, 0, 0, 0.3));\n",
              "        fill: #FFFFFF;\n",
              "      }\n",
              "    </style>\n",
              "    <button class=\"colab-df-generate\" onclick=\"generateWithVariable('lS')\"\n",
              "            title=\"Generate code using this dataframe.\"\n",
              "            style=\"display:none;\">\n",
              "\n",
              "  <svg xmlns=\"http://www.w3.org/2000/svg\" height=\"24px\"viewBox=\"0 0 24 24\"\n",
              "       width=\"24px\">\n",
              "    <path d=\"M7,19H8.4L18.45,9,17,7.55,7,17.6ZM5,21V16.75L18.45,3.32a2,2,0,0,1,2.83,0l1.4,1.43a1.91,1.91,0,0,1,.58,1.4,1.91,1.91,0,0,1-.58,1.4L9.25,21ZM18.45,9,17,7.55Zm-12,3A5.31,5.31,0,0,0,4.9,8.1,5.31,5.31,0,0,0,1,6.5,5.31,5.31,0,0,0,4.9,4.9,5.31,5.31,0,0,0,6.5,1,5.31,5.31,0,0,0,8.1,4.9,5.31,5.31,0,0,0,12,6.5,5.46,5.46,0,0,0,6.5,12Z\"/>\n",
              "  </svg>\n",
              "    </button>\n",
              "    <script>\n",
              "      (() => {\n",
              "      const buttonEl =\n",
              "        document.querySelector('#id_fb9906a5-7bc6-4115-afa7-297c3fd00644 button.colab-df-generate');\n",
              "      buttonEl.style.display =\n",
              "        google.colab.kernel.accessAllowed ? 'block' : 'none';\n",
              "\n",
              "      buttonEl.onclick = () => {\n",
              "        google.colab.notebook.generateWithVariable('lS');\n",
              "      }\n",
              "      })();\n",
              "    </script>\n",
              "  </div>\n",
              "\n",
              "    </div>\n",
              "  </div>\n"
            ],
            "application/vnd.google.colaboratory.intrinsic+json": {
              "type": "dataframe",
              "variable_name": "lS",
              "summary": "{\n  \"name\": \"lS\",\n  \"rows\": 10,\n  \"fields\": [\n    {\n      \"column\": \"Diferencia\",\n      \"properties\": {\n        \"dtype\": \"number\",\n        \"std\": 3,\n        \"min\": 0,\n        \"max\": 9,\n        \"num_unique_values\": 10,\n        \"samples\": [\n          8,\n          1,\n          5\n        ],\n        \"semantic_type\": \"\",\n        \"description\": \"\"\n      }\n    },\n    {\n      \"column\": \"Probabilidad\",\n      \"properties\": {\n        \"dtype\": \"number\",\n        \"std\": 0.05163977794943222,\n        \"min\": 0.02,\n        \"max\": 0.18,\n        \"num_unique_values\": 9,\n        \"samples\": [\n          0.04,\n          0.18,\n          0.08\n        ],\n        \"semantic_type\": \"\",\n        \"description\": \"\"\n      }\n    }\n  ]\n}"
            }
          },
          "metadata": {},
          "execution_count": 41
        }
      ]
    },
    {
      "cell_type": "code",
      "source": [
        "#Y verificamos que la suma de las probabilidades de 1.\n",
        "suma_densidad = ley_S.sum()\n",
        "print(f\"La suma de las probabilidades del experimento es: {suma_densidad:.2f}\")"
      ],
      "metadata": {
        "colab": {
          "base_uri": "https://localhost:8080/"
        },
        "id": "F16pPLWY2Gfy",
        "outputId": "1978d99e-03b1-47a1-e5e7-36ad91c6149e"
      },
      "execution_count": 44,
      "outputs": [
        {
          "output_type": "stream",
          "name": "stdout",
          "text": [
            "La suma de las probabilidades del experimento es: 1.00\n"
          ]
        }
      ]
    },
    {
      "cell_type": "code",
      "source": [
        "from pickle import REDUCE\n",
        "#Ahora crearemos la gráfica de la función de densidad.\n",
        "lS.plot.bar( x= 'Diferencia', y = 'Probabilidad',color='#a969f9')\n"
      ],
      "metadata": {
        "colab": {
          "base_uri": "https://localhost:8080/",
          "height": 461
        },
        "id": "DEcH3Jj92ICx",
        "outputId": "ce6f7244-1498-4d73-8b06-463a20b44272"
      },
      "execution_count": 43,
      "outputs": [
        {
          "output_type": "execute_result",
          "data": {
            "text/plain": [
              "<Axes: xlabel='Diferencia'>"
            ]
          },
          "metadata": {},
          "execution_count": 43
        },
        {
          "output_type": "display_data",
          "data": {
            "text/plain": [
              "<Figure size 640x480 with 1 Axes>"
            ],
            "image/png": "[encoded data removed]"
          },
          "metadata": {}
        }
      ]
    },
    {
      "cell_type": "markdown",
      "source": [
        "#Probabilidad axiomática"
      ],
      "metadata": {
        "id": "cFpScu7Tt72A"
      }
    },
    {
      "cell_type": "markdown",
      "source": [
        "Los axiomas de la probabilidad son una serie de reglas de el cálculo de probabilidades que se deben de cumplir. Las cuales son las siguiente:\n",
        "\n",
        "###*Axiomas de la probabilidad:*\n",
        "1. $\\mathbb{P}(A)\\geq0$\n",
        "\n",
        "2. $\\mathbb{P}(Ω)=1$\n",
        "\n",
        "3. $\\mathbb{P}\\left(\\bigcup_{k=1}^{∞}A_k\\right)=\\sum_{k=1}^{∞}\\mathbb{P}(A_k)$, cuando $A_1, A_2, \\ldots$ son ajenos dos a dos.\n",
        "\n",
        "Se tiene que un espacio de probabilidad, $(Ω,ℱ,\\mathbb{P})$, donde $ℱ$ es una sigma álgebra de $Ω$, una colección de subconjuntos con las siguientes condiciones:\n",
        "\n",
        "1. $Ω ∈ ℱ$.\n",
        "\n",
        "2. Si $A \\in ℱ$, entonces $A^{c} \\in ℱ$.\n",
        "\n",
        "3. Si $A_1, A_2,\\ldots,A_n ∈ ℱ$, entonces $⋃_{k=1}^{∞}A_k ∈ ℱ$\n",
        "\n",
        "Y se tiene a $\\mathbb{P}$ como una medida de probabilidad, donde:\n",
        "$$\\mathbb{P}: f→[0,1]$$\n",
        "\n",
        "Dicha medida de probabilidad debe de cumplir los axiomas de probabilidad."
      ],
      "metadata": {
        "id": "b7UQSRBxuCvR"
      }
    }
  ]
}