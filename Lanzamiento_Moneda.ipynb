{
  "nbformat": 4,
  "nbformat_minor": 0,
  "metadata": {
    "colab": {
      "provenance": []
    },
    "kernelspec": {
      "name": "python3",
      "display_name": "Python 3"
    },
    "language_info": {
      "name": "python"
    }
  },
  "cells": [
    {
      "cell_type": "markdown",
      "source": [
        "### **Alumna**: Cruz Arce Alexa Clio"
      ],
      "metadata": {
        "id": "yFWhJEyTi54F"
      }
    },
    {
      "cell_type": "markdown",
      "source": [
        "###EJERCICIO:\n",
        "Sea el experimento de lanzar una moneda 3 veces, de manera independiente (es decir, el $i$-ésimo lanzamiento no me afecta al $i+1$ lanzamiento). El espacio muetral de este experimento es:\n",
        "\n",
        "$$ \\Omega = \\{A,S\\} \\times \\{A,S\\} \\times \\{A,S\\} = \\{A,S\\}^3 $$\n",
        "y tenemos que $\\#\\Omega = 2^3$.\n",
        "\n",
        "Sean los eventos:\n",
        "* $A$: todos los resultados son águila\n",
        "* $S$: todos los resultados son soles\n",
        "* $E$: por lo menos un resultado es sol\n"
      ],
      "metadata": {
        "id": "fTbUXWdMfTSn"
      }
    },
    {
      "cell_type": "code",
      "execution_count": null,
      "metadata": {
        "colab": {
          "base_uri": "https://localhost:8080/"
        },
        "id": "ywLgWykJfSA7",
        "outputId": "fdcd3899-6f9a-4379-8ae9-c043c9bd3955"
      },
      "outputs": [
        {
          "output_type": "stream",
          "name": "stdout",
          "text": [
            "Ω = {('A', 'S', 'S'), ('S', 'A', 'A'), ('A', 'A', 'A'), ('S', 'A', 'S'), ('S', 'S', 'A'), ('A', 'S', 'A'), ('S', 'S', 'S'), ('A', 'A', 'S')}\n",
            "La cardinalidad de Ω es: 8\n"
          ]
        }
      ],
      "source": [
        "#Primero crearemos el espacio muestral de nuestro experimento\n",
        "import itertools\n",
        "from itertools import product\n",
        "\n",
        "Omega = set(product({'A','S'}, repeat=3)) #Se crea Omega, espacio muestral donde cada evento son 3 lanzamientos al azar.\n",
        "cardinalidad = len(Omega) #Se calcula la cardinalidad del espacio muestral\n",
        "print(f\"\\u03A9 = {Omega}\")\n",
        "print(f\"La cardinalidad de \\u03A9 es: {cardinalidad}\")"
      ]
    },
    {
      "cell_type": "code",
      "source": [
        "from collections import Counter\n",
        "\n",
        "#Definimos el evento A, donde todos los resultados sean águila\n",
        "resultado_especifico = ('A', 'A', 'A')\n",
        "\n",
        "#Se cuentan de nuestro Omega\n",
        "conteo = Counter(Omega)\n",
        "num_veces = conteo[resultado_especifico]\n",
        "print(f\"El resultado {resultado_especifico} aparece {num_veces} veces en Omega.\")\n",
        "\n",
        "#Y ahora calculamos la probabilidad de el Evento\n",
        "\n",
        "def P(A):\n",
        "    P = A/len(Omega)\n",
        "    return P\n",
        "\n",
        "print(f\"La probabilidad de que todos los resultados sean águila es: {P(num_veces)}\")"
      ],
      "metadata": {
        "colab": {
          "base_uri": "https://localhost:8080/"
        },
        "id": "c-rNt7hag3QE",
        "outputId": "0f928e92-1bc2-447d-9c0d-4a519a730ead"
      },
      "execution_count": null,
      "outputs": [
        {
          "output_type": "stream",
          "name": "stdout",
          "text": [
            "El resultado ('A', 'A', 'A') aparece 1 veces en Omega.\n",
            "La probabilidad de que todos los resultados sean águila es: 0.125\n"
          ]
        }
      ]
    },
    {
      "cell_type": "code",
      "source": [
        "#Definimos el evento S, donde todos los resultados sean soles\n",
        "resultado_especifico = ('S', 'S', 'S')\n",
        "\n",
        "#Se cuentan de nuestro Omega\n",
        "conteo = Counter(Omega)\n",
        "num_veces = conteo[resultado_especifico]\n",
        "print(f\"El resultado {resultado_especifico} aparece {num_veces} veces en Omega.\")\n",
        "\n",
        "#Y ahora calculamos la probabilidad de el Evento\n",
        "\n",
        "def P(A):\n",
        "    P = A/len(Omega)\n",
        "    return P\n",
        "\n",
        "print(f\"La probabilidad de que todos los resultados sean soles es: {P(num_veces)}\")"
      ],
      "metadata": {
        "colab": {
          "base_uri": "https://localhost:8080/"
        },
        "id": "-ItGSivkhYb2",
        "outputId": "8dee5b1f-8f02-4ebf-8986-36264ef03102"
      },
      "execution_count": null,
      "outputs": [
        {
          "output_type": "stream",
          "name": "stdout",
          "text": [
            "El resultado ('S', 'S', 'S') aparece 1 veces en Omega.\n",
            "La probabilidad de que todos los resultados sean soles es: 0.125\n"
          ]
        }
      ]
    },
    {
      "cell_type": "code",
      "source": [
        "#Definimos el evento E, donde al menos en uno de los tres volados salió sol.\n",
        "eventoE={outcome for outcome in Omega if 'S' in outcome}\n",
        "cardinalidadE=len(eventoE)\n",
        "\n",
        "print(f\"La probabilidad de que al menos haya un sol entre los tres volados es: {P(cardinalidadE)}\")\n"
      ],
      "metadata": {
        "colab": {
          "base_uri": "https://localhost:8080/"
        },
        "id": "zuqkJuqFiKhd",
        "outputId": "a34896be-fcb9-4551-846b-d932fefba910"
      },
      "execution_count": null,
      "outputs": [
        {
          "output_type": "stream",
          "name": "stdout",
          "text": [
            "La probabilidad de que al menos haya un sol entre los tres volados es: 0.875\n"
          ]
        }
      ]
    }
  ]
}